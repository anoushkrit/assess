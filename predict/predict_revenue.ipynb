{
 "metadata": {
  "language_info": {
   "codemirror_mode": {
    "name": "ipython",
    "version": 3
   },
   "file_extension": ".py",
   "mimetype": "text/x-python",
   "name": "python",
   "nbconvert_exporter": "python",
   "pygments_lexer": "ipython3",
   "version": "3.8.5"
  },
  "orig_nbformat": 2,
  "kernelspec": {
   "name": "python3",
   "display_name": "Python 3",
   "language": "python"
  }
 },
 "nbformat": 4,
 "nbformat_minor": 2,
 "cells": [
  {
   "source": [
    "# Predict Sales\n",
    "\n",
    "> Created on 04/04/2021, 2:02 PM IST\n",
    "\n",
    "## Data Preparation\n",
    "\n",
    "1. Checking percentage of NA values\n",
    "2. Dropping NA values \n",
    "3. Imputing NA values\n",
    "4. Renaming Column Names\n",
    "5. Converting Data Types to datetime64[ns] format."
   ],
   "cell_type": "markdown",
   "metadata": {}
  },
  {
   "cell_type": "code",
   "execution_count": 1,
   "metadata": {},
   "outputs": [],
   "source": [
    "import pandas as pd\n",
    "import numpy as np \n",
    "import sklearn \n",
    "import matplotlib.pyplot as plt\n",
    "import plotly\n",
    "from sklearn.tree import DecisionTreeRegressor\n",
    "from sklearn.ensemble import RandomForestRegressor\n",
    "from sklearn.model_selection import train_test_split\n",
    "from sklearn.preprocessing import OneHotEncoder\n"
   ]
  },
  {
   "cell_type": "code",
   "execution_count": 2,
   "metadata": {},
   "outputs": [
    {
     "output_type": "stream",
     "name": "stdout",
     "text": [
      "(270, 24)\n"
     ]
    },
    {
     "output_type": "execute_result",
     "data": {
      "text/plain": [
       "            order_no  discount_amount      adults  booking_fee  \\\n",
       "count     270.000000       270.000000  270.000000        270.0   \n",
       "mean   776461.233333         9.316667    1.003704          0.0   \n",
       "std      2237.984336         4.101234    0.060858          0.0   \n",
       "min    774016.000000         0.000000    1.000000          0.0   \n",
       "25%    774936.750000        10.250000    1.000000          0.0   \n",
       "50%    775962.500000        11.250000    1.000000          0.0   \n",
       "75%    777875.250000        11.250000    1.000000          0.0   \n",
       "max    782807.000000        22.500000    2.000000          0.0   \n",
       "\n",
       "       paid_from_wallet  commission  bf_discount        trip_id  net_revenue  \\\n",
       "count             270.0       270.0        270.0     270.000000   270.000000   \n",
       "mean                0.0         0.0          0.0  172440.592593     1.782407   \n",
       "std                 0.0         0.0          0.0  120170.540314     3.999287   \n",
       "min                 0.0         0.0          0.0   16009.000000     0.000000   \n",
       "25%                 0.0         0.0          0.0   16009.000000     0.000000   \n",
       "50%                 0.0         0.0          0.0  168171.000000     0.000000   \n",
       "75%                 0.0         0.0          0.0  310958.000000     0.000000   \n",
       "max                 0.0         0.0          0.0  310958.000000    11.250000   \n",
       "\n",
       "             base_id  ff_discount  facility_fee  amount_in_usd  \\\n",
       "count     270.000000        270.0         270.0     270.000000   \n",
       "mean    78203.188889          0.0           0.0      11.099074   \n",
       "std     97252.981282          0.0           0.0       0.800586   \n",
       "min        35.000000          0.0           0.0      10.250000   \n",
       "25%       251.750000          0.0           0.0      11.250000   \n",
       "50%     19819.000000          0.0           0.0      11.250000   \n",
       "75%    138113.000000          0.0           0.0      11.250000   \n",
       "max    319870.000000          0.0           0.0      22.500000   \n",
       "\n",
       "       voucher_consumption  paid_from_card  \n",
       "count                270.0      270.000000  \n",
       "mean                   0.0        1.782407  \n",
       "std                    0.0        3.999287  \n",
       "min                    0.0        0.000000  \n",
       "25%                    0.0        0.000000  \n",
       "50%                    0.0        0.000000  \n",
       "75%                    0.0        0.000000  \n",
       "max                    0.0       11.250000  "
      ],
      "text/html": "<div>\n<style scoped>\n    .dataframe tbody tr th:only-of-type {\n        vertical-align: middle;\n    }\n\n    .dataframe tbody tr th {\n        vertical-align: top;\n    }\n\n    .dataframe thead th {\n        text-align: right;\n    }\n</style>\n<table border=\"1\" class=\"dataframe\">\n  <thead>\n    <tr style=\"text-align: right;\">\n      <th></th>\n      <th>order_no</th>\n      <th>discount_amount</th>\n      <th>adults</th>\n      <th>booking_fee</th>\n      <th>paid_from_wallet</th>\n      <th>commission</th>\n      <th>bf_discount</th>\n      <th>trip_id</th>\n      <th>net_revenue</th>\n      <th>base_id</th>\n      <th>ff_discount</th>\n      <th>facility_fee</th>\n      <th>amount_in_usd</th>\n      <th>voucher_consumption</th>\n      <th>paid_from_card</th>\n    </tr>\n  </thead>\n  <tbody>\n    <tr>\n      <th>count</th>\n      <td>270.000000</td>\n      <td>270.000000</td>\n      <td>270.000000</td>\n      <td>270.0</td>\n      <td>270.0</td>\n      <td>270.0</td>\n      <td>270.0</td>\n      <td>270.000000</td>\n      <td>270.000000</td>\n      <td>270.000000</td>\n      <td>270.0</td>\n      <td>270.0</td>\n      <td>270.000000</td>\n      <td>270.0</td>\n      <td>270.000000</td>\n    </tr>\n    <tr>\n      <th>mean</th>\n      <td>776461.233333</td>\n      <td>9.316667</td>\n      <td>1.003704</td>\n      <td>0.0</td>\n      <td>0.0</td>\n      <td>0.0</td>\n      <td>0.0</td>\n      <td>172440.592593</td>\n      <td>1.782407</td>\n      <td>78203.188889</td>\n      <td>0.0</td>\n      <td>0.0</td>\n      <td>11.099074</td>\n      <td>0.0</td>\n      <td>1.782407</td>\n    </tr>\n    <tr>\n      <th>std</th>\n      <td>2237.984336</td>\n      <td>4.101234</td>\n      <td>0.060858</td>\n      <td>0.0</td>\n      <td>0.0</td>\n      <td>0.0</td>\n      <td>0.0</td>\n      <td>120170.540314</td>\n      <td>3.999287</td>\n      <td>97252.981282</td>\n      <td>0.0</td>\n      <td>0.0</td>\n      <td>0.800586</td>\n      <td>0.0</td>\n      <td>3.999287</td>\n    </tr>\n    <tr>\n      <th>min</th>\n      <td>774016.000000</td>\n      <td>0.000000</td>\n      <td>1.000000</td>\n      <td>0.0</td>\n      <td>0.0</td>\n      <td>0.0</td>\n      <td>0.0</td>\n      <td>16009.000000</td>\n      <td>0.000000</td>\n      <td>35.000000</td>\n      <td>0.0</td>\n      <td>0.0</td>\n      <td>10.250000</td>\n      <td>0.0</td>\n      <td>0.000000</td>\n    </tr>\n    <tr>\n      <th>25%</th>\n      <td>774936.750000</td>\n      <td>10.250000</td>\n      <td>1.000000</td>\n      <td>0.0</td>\n      <td>0.0</td>\n      <td>0.0</td>\n      <td>0.0</td>\n      <td>16009.000000</td>\n      <td>0.000000</td>\n      <td>251.750000</td>\n      <td>0.0</td>\n      <td>0.0</td>\n      <td>11.250000</td>\n      <td>0.0</td>\n      <td>0.000000</td>\n    </tr>\n    <tr>\n      <th>50%</th>\n      <td>775962.500000</td>\n      <td>11.250000</td>\n      <td>1.000000</td>\n      <td>0.0</td>\n      <td>0.0</td>\n      <td>0.0</td>\n      <td>0.0</td>\n      <td>168171.000000</td>\n      <td>0.000000</td>\n      <td>19819.000000</td>\n      <td>0.0</td>\n      <td>0.0</td>\n      <td>11.250000</td>\n      <td>0.0</td>\n      <td>0.000000</td>\n    </tr>\n    <tr>\n      <th>75%</th>\n      <td>777875.250000</td>\n      <td>11.250000</td>\n      <td>1.000000</td>\n      <td>0.0</td>\n      <td>0.0</td>\n      <td>0.0</td>\n      <td>0.0</td>\n      <td>310958.000000</td>\n      <td>0.000000</td>\n      <td>138113.000000</td>\n      <td>0.0</td>\n      <td>0.0</td>\n      <td>11.250000</td>\n      <td>0.0</td>\n      <td>0.000000</td>\n    </tr>\n    <tr>\n      <th>max</th>\n      <td>782807.000000</td>\n      <td>22.500000</td>\n      <td>2.000000</td>\n      <td>0.0</td>\n      <td>0.0</td>\n      <td>0.0</td>\n      <td>0.0</td>\n      <td>310958.000000</td>\n      <td>11.250000</td>\n      <td>319870.000000</td>\n      <td>0.0</td>\n      <td>0.0</td>\n      <td>22.500000</td>\n      <td>0.0</td>\n      <td>11.250000</td>\n    </tr>\n  </tbody>\n</table>\n</div>"
     },
     "metadata": {},
     "execution_count": 2
    }
   ],
   "source": [
    "df = pd.read_csv(\"predict_revenue.csv\")\n",
    "print(df.shape)\n",
    "df.describe()"
   ]
  },
  {
   "cell_type": "code",
   "execution_count": 3,
   "metadata": {},
   "outputs": [
    {
     "output_type": "execute_result",
     "data": {
      "text/plain": [
       "   order_no  discount_amount  adults  booking_fee  paid_from_wallet  \\\n",
       "0    774016            11.25       1            0                 0   \n",
       "1    774017            11.25       1            0                 0   \n",
       "2    774027            10.25       1            0                 0   \n",
       "3    774027            10.25       1            0                 0   \n",
       "4    774029            11.25       1            0                 0   \n",
       "\n",
       "           order_time source  isRelease trip_type  \\\n",
       "0  09-25-2019 3:47:29    WEB      False         C   \n",
       "1  09-25-2019 3:48:52    WEB      False         C   \n",
       "2  09-25-2019 5:24:09    IOS      False         C   \n",
       "3  09-25-2019 5:24:09    IOS      False         C   \n",
       "4  09-25-2019 5:38:44    WEB      False         C   \n",
       "\n",
       "                               leg_name  ...  isCancel net_revenue  base_id  \\\n",
       "0          Kendall Park to NYC Commuter  ...     False         0.0   294729   \n",
       "1  New York, NY - Kendall Park Commuter  ...     False         0.0   294729   \n",
       "2          Kendall Park to NYC Commuter  ...     False         0.0     1338   \n",
       "3  New York, NY - Kendall Park Commuter  ...     False         0.0     1338   \n",
       "4          Kendall Park to NYC Commuter  ...     False         0.0       35   \n",
       "\n",
       "   travel_date  ff_discount  facility_fee  amount_in_usd voucher_consumption  \\\n",
       "0   09-25-2019            0             0          11.25                   0   \n",
       "1   09-25-2019            0             0          11.25                   0   \n",
       "2   09-25-2019            0             0          10.25                   0   \n",
       "3   09-25-2019            0             0          10.25                   0   \n",
       "4   09-25-2019            0             0          11.25                   0   \n",
       "\n",
       "   paid_from_card                         pick_stop  \n",
       "0             0.0  Kendall Park Roller Skating Rink  \n",
       "1             0.0                      Times Square  \n",
       "2             0.0  Kendall Park Roller Skating Rink  \n",
       "3             0.0  Kendall Park Roller Skating Rink  \n",
       "4             0.0          Kendall Park Post Office  \n",
       "\n",
       "[5 rows x 24 columns]"
      ],
      "text/html": "<div>\n<style scoped>\n    .dataframe tbody tr th:only-of-type {\n        vertical-align: middle;\n    }\n\n    .dataframe tbody tr th {\n        vertical-align: top;\n    }\n\n    .dataframe thead th {\n        text-align: right;\n    }\n</style>\n<table border=\"1\" class=\"dataframe\">\n  <thead>\n    <tr style=\"text-align: right;\">\n      <th></th>\n      <th>order_no</th>\n      <th>discount_amount</th>\n      <th>adults</th>\n      <th>booking_fee</th>\n      <th>paid_from_wallet</th>\n      <th>order_time</th>\n      <th>source</th>\n      <th>isRelease</th>\n      <th>trip_type</th>\n      <th>leg_name</th>\n      <th>...</th>\n      <th>isCancel</th>\n      <th>net_revenue</th>\n      <th>base_id</th>\n      <th>travel_date</th>\n      <th>ff_discount</th>\n      <th>facility_fee</th>\n      <th>amount_in_usd</th>\n      <th>voucher_consumption</th>\n      <th>paid_from_card</th>\n      <th>pick_stop</th>\n    </tr>\n  </thead>\n  <tbody>\n    <tr>\n      <th>0</th>\n      <td>774016</td>\n      <td>11.25</td>\n      <td>1</td>\n      <td>0</td>\n      <td>0</td>\n      <td>09-25-2019 3:47:29</td>\n      <td>WEB</td>\n      <td>False</td>\n      <td>C</td>\n      <td>Kendall Park to NYC Commuter</td>\n      <td>...</td>\n      <td>False</td>\n      <td>0.0</td>\n      <td>294729</td>\n      <td>09-25-2019</td>\n      <td>0</td>\n      <td>0</td>\n      <td>11.25</td>\n      <td>0</td>\n      <td>0.0</td>\n      <td>Kendall Park Roller Skating Rink</td>\n    </tr>\n    <tr>\n      <th>1</th>\n      <td>774017</td>\n      <td>11.25</td>\n      <td>1</td>\n      <td>0</td>\n      <td>0</td>\n      <td>09-25-2019 3:48:52</td>\n      <td>WEB</td>\n      <td>False</td>\n      <td>C</td>\n      <td>New York, NY - Kendall Park Commuter</td>\n      <td>...</td>\n      <td>False</td>\n      <td>0.0</td>\n      <td>294729</td>\n      <td>09-25-2019</td>\n      <td>0</td>\n      <td>0</td>\n      <td>11.25</td>\n      <td>0</td>\n      <td>0.0</td>\n      <td>Times Square</td>\n    </tr>\n    <tr>\n      <th>2</th>\n      <td>774027</td>\n      <td>10.25</td>\n      <td>1</td>\n      <td>0</td>\n      <td>0</td>\n      <td>09-25-2019 5:24:09</td>\n      <td>IOS</td>\n      <td>False</td>\n      <td>C</td>\n      <td>Kendall Park to NYC Commuter</td>\n      <td>...</td>\n      <td>False</td>\n      <td>0.0</td>\n      <td>1338</td>\n      <td>09-25-2019</td>\n      <td>0</td>\n      <td>0</td>\n      <td>10.25</td>\n      <td>0</td>\n      <td>0.0</td>\n      <td>Kendall Park Roller Skating Rink</td>\n    </tr>\n    <tr>\n      <th>3</th>\n      <td>774027</td>\n      <td>10.25</td>\n      <td>1</td>\n      <td>0</td>\n      <td>0</td>\n      <td>09-25-2019 5:24:09</td>\n      <td>IOS</td>\n      <td>False</td>\n      <td>C</td>\n      <td>New York, NY - Kendall Park Commuter</td>\n      <td>...</td>\n      <td>False</td>\n      <td>0.0</td>\n      <td>1338</td>\n      <td>09-25-2019</td>\n      <td>0</td>\n      <td>0</td>\n      <td>10.25</td>\n      <td>0</td>\n      <td>0.0</td>\n      <td>Kendall Park Roller Skating Rink</td>\n    </tr>\n    <tr>\n      <th>4</th>\n      <td>774029</td>\n      <td>11.25</td>\n      <td>1</td>\n      <td>0</td>\n      <td>0</td>\n      <td>09-25-2019 5:38:44</td>\n      <td>WEB</td>\n      <td>False</td>\n      <td>C</td>\n      <td>Kendall Park to NYC Commuter</td>\n      <td>...</td>\n      <td>False</td>\n      <td>0.0</td>\n      <td>35</td>\n      <td>09-25-2019</td>\n      <td>0</td>\n      <td>0</td>\n      <td>11.25</td>\n      <td>0</td>\n      <td>0.0</td>\n      <td>Kendall Park Post Office</td>\n    </tr>\n  </tbody>\n</table>\n<p>5 rows × 24 columns</p>\n</div>"
     },
     "metadata": {},
     "execution_count": 3
    }
   ],
   "source": [
    "df.head()"
   ]
  },
  {
   "cell_type": "code",
   "execution_count": 4,
   "metadata": {},
   "outputs": [
    {
     "output_type": "stream",
     "name": "stdout",
     "text": [
      "<class 'pandas.core.frame.DataFrame'>\nRangeIndex: 270 entries, 0 to 269\nData columns (total 24 columns):\n #   Column               Non-Null Count  Dtype  \n---  ------               --------------  -----  \n 0   order_no             270 non-null    int64  \n 1   discount_amount      270 non-null    float64\n 2   adults               270 non-null    int64  \n 3   booking_fee          270 non-null    int64  \n 4   paid_from_wallet     270 non-null    int64  \n 5   order_time           270 non-null    object \n 6   source               270 non-null    object \n 7   isRelease            270 non-null    bool   \n 8   trip_type            270 non-null    object \n 9   leg_name             270 non-null    object \n 10  commission           270 non-null    int64  \n 11  departure_time       270 non-null    object \n 12  bf_discount          270 non-null    int64  \n 13  trip_id              270 non-null    int64  \n 14  isCancel             270 non-null    bool   \n 15  net_revenue          270 non-null    float64\n 16  base_id              270 non-null    int64  \n 17  travel_date          270 non-null    object \n 18  ff_discount          270 non-null    int64  \n 19  facility_fee         270 non-null    int64  \n 20  amount_in_usd        270 non-null    float64\n 21  voucher_consumption  270 non-null    int64  \n 22  paid_from_card       270 non-null    float64\n 23  pick_stop            270 non-null    object \ndtypes: bool(2), float64(4), int64(11), object(7)\nmemory usage: 47.1+ KB\n"
     ]
    }
   ],
   "source": [
    "df.info()"
   ]
  },
  {
   "cell_type": "code",
   "execution_count": 5,
   "metadata": {},
   "outputs": [
    {
     "output_type": "stream",
     "name": "stdout",
     "text": [
      "(270, 24)\n(270, 24)\n"
     ]
    }
   ],
   "source": [
    "\n",
    "## Percentage of missing values in each column\n",
    "\n",
    "missing_values = pd.DataFrame({c:(df[c].isna().sum()/len(df))*100 for c in df.columns},index=[\"% missing values in df\"])\n",
    "\n",
    "# Drop NA if < 5% (if any)\n",
    "df  =  df.dropna()\n",
    "print(df.shape)\n",
    "\n",
    "# Drop Duplicates \n",
    "df = df.drop_duplicates()\n",
    "print(df.shape)"
   ]
  },
  {
   "source": [
    "The only date-time columns available here are order_time and travel_date"
   ],
   "cell_type": "markdown",
   "metadata": {}
  },
  {
   "cell_type": "code",
   "execution_count": 6,
   "metadata": {},
   "outputs": [],
   "source": [
    "df['order_time'] = pd.to_datetime(df['order_time'])\n",
    "df['travel_date'] = pd.to_datetime(df['travel_date'])\n",
    "df['departure_time'] = pd.to_datetime(df['departure_time'])"
   ]
  },
  {
   "cell_type": "code",
   "execution_count": 7,
   "metadata": {},
   "outputs": [
    {
     "output_type": "stream",
     "name": "stdout",
     "text": [
      "<class 'pandas.core.frame.DataFrame'>\nInt64Index: 270 entries, 0 to 269\nData columns (total 24 columns):\n #   Column               Non-Null Count  Dtype         \n---  ------               --------------  -----         \n 0   order_no             270 non-null    int64         \n 1   discount_amount      270 non-null    float64       \n 2   adults               270 non-null    int64         \n 3   booking_fee          270 non-null    int64         \n 4   paid_from_wallet     270 non-null    int64         \n 5   order_time           270 non-null    datetime64[ns]\n 6   source               270 non-null    object        \n 7   isRelease            270 non-null    bool          \n 8   trip_type            270 non-null    object        \n 9   leg_name             270 non-null    object        \n 10  commission           270 non-null    int64         \n 11  departure_time       270 non-null    datetime64[ns]\n 12  bf_discount          270 non-null    int64         \n 13  trip_id              270 non-null    int64         \n 14  isCancel             270 non-null    bool          \n 15  net_revenue          270 non-null    float64       \n 16  base_id              270 non-null    int64         \n 17  travel_date          270 non-null    datetime64[ns]\n 18  ff_discount          270 non-null    int64         \n 19  facility_fee         270 non-null    int64         \n 20  amount_in_usd        270 non-null    float64       \n 21  voucher_consumption  270 non-null    int64         \n 22  paid_from_card       270 non-null    float64       \n 23  pick_stop            270 non-null    object        \ndtypes: bool(2), datetime64[ns](3), float64(4), int64(11), object(4)\nmemory usage: 49.0+ KB\n"
     ]
    }
   ],
   "source": [
    "df.info()"
   ]
  },
  {
   "cell_type": "code",
   "execution_count": 8,
   "metadata": {},
   "outputs": [],
   "source": [
    "df['order_day'] = pd.DatetimeIndex(df['order_time']).day\n",
    "df['order_hour'] = pd.DatetimeIndex(df['order_time']).hour\n",
    "\n",
    "# Since the year belongs to only 2019 and seconds won't matter\n",
    "# Since there are only 4 days on which the travel has happened\n",
    "\n",
    "df['departure_hour'] = pd.DatetimeIndex(df['departure_time']).hour\n",
    "df['departure_minute'] = pd.DatetimeIndex(df['departure_time']).minute\n",
    "\n",
    "df['travel_day'] = pd.DatetimeIndex(df['travel_date']).day\n",
    "\n"
   ]
  },
  {
   "cell_type": "code",
   "execution_count": 9,
   "metadata": {},
   "outputs": [
    {
     "output_type": "execute_result",
     "data": {
      "text/plain": [
       "     discount_amount  adults   source                              leg_name  \\\n",
       "0              11.25       1      WEB          Kendall Park to NYC Commuter   \n",
       "1              11.25       1      WEB  New York, NY - Kendall Park Commuter   \n",
       "2              10.25       1      IOS          Kendall Park to NYC Commuter   \n",
       "3              10.25       1      IOS  New York, NY - Kendall Park Commuter   \n",
       "4              11.25       1      WEB          Kendall Park to NYC Commuter   \n",
       "..               ...     ...      ...                                   ...   \n",
       "265            11.25       1      IOS          Kendall Park to NYC Commuter   \n",
       "266            11.25       1      WEB          Kendall Park to NYC Commuter   \n",
       "267            11.25       1      WEB  New York, NY - Kendall Park Commuter   \n",
       "268            11.25       1      IOS          Kendall Park to NYC Commuter   \n",
       "269            11.25       1  ANDROID          Kendall Park to NYC Commuter   \n",
       "\n",
       "     trip_id  net_revenue  base_id  amount_in_usd  paid_from_card  \\\n",
       "0      16009          0.0   294729          11.25             0.0   \n",
       "1     310958          0.0   294729          11.25             0.0   \n",
       "2      16009          0.0     1338          10.25             0.0   \n",
       "3     310958          0.0     1338          10.25             0.0   \n",
       "4      16009          0.0       35          11.25             0.0   \n",
       "..       ...          ...      ...            ...             ...   \n",
       "265   117711          0.0      430          11.25             0.0   \n",
       "266    16009          0.0   294729          11.25             0.0   \n",
       "267   310958          0.0   294729          11.25             0.0   \n",
       "268   117711          0.0      260          11.25             0.0   \n",
       "269    16009          0.0     3863          11.25             0.0   \n",
       "\n",
       "                            pick_stop  order_day  order_hour  departure_hour  \\\n",
       "0    Kendall Park Roller Skating Rink         25           3               6   \n",
       "1                        Times Square         25           3              17   \n",
       "2    Kendall Park Roller Skating Rink         25           5               6   \n",
       "3    Kendall Park Roller Skating Rink         25           5              17   \n",
       "4            Kendall Park Post Office         25           5               6   \n",
       "..                                ...        ...         ...             ...   \n",
       "265          Kendall Park Post Office         29          21               6   \n",
       "266  Kendall Park Roller Skating Rink         29          22               6   \n",
       "267                      Times Square         29          22              17   \n",
       "268  Kendall Park Roller Skating Rink         29          22               6   \n",
       "269  Kendall Park Roller Skating Rink         29          23               6   \n",
       "\n",
       "     departure_minute  travel_day  \n",
       "0                  25          25  \n",
       "1                  30          25  \n",
       "2                  25          25  \n",
       "3                  30          25  \n",
       "4                  25          25  \n",
       "..                ...         ...  \n",
       "265                55          30  \n",
       "266                25          30  \n",
       "267                30          30  \n",
       "268                55          30  \n",
       "269                25          30  \n",
       "\n",
       "[270 rows x 15 columns]"
      ],
      "text/html": "<div>\n<style scoped>\n    .dataframe tbody tr th:only-of-type {\n        vertical-align: middle;\n    }\n\n    .dataframe tbody tr th {\n        vertical-align: top;\n    }\n\n    .dataframe thead th {\n        text-align: right;\n    }\n</style>\n<table border=\"1\" class=\"dataframe\">\n  <thead>\n    <tr style=\"text-align: right;\">\n      <th></th>\n      <th>discount_amount</th>\n      <th>adults</th>\n      <th>source</th>\n      <th>leg_name</th>\n      <th>trip_id</th>\n      <th>net_revenue</th>\n      <th>base_id</th>\n      <th>amount_in_usd</th>\n      <th>paid_from_card</th>\n      <th>pick_stop</th>\n      <th>order_day</th>\n      <th>order_hour</th>\n      <th>departure_hour</th>\n      <th>departure_minute</th>\n      <th>travel_day</th>\n    </tr>\n  </thead>\n  <tbody>\n    <tr>\n      <th>0</th>\n      <td>11.25</td>\n      <td>1</td>\n      <td>WEB</td>\n      <td>Kendall Park to NYC Commuter</td>\n      <td>16009</td>\n      <td>0.0</td>\n      <td>294729</td>\n      <td>11.25</td>\n      <td>0.0</td>\n      <td>Kendall Park Roller Skating Rink</td>\n      <td>25</td>\n      <td>3</td>\n      <td>6</td>\n      <td>25</td>\n      <td>25</td>\n    </tr>\n    <tr>\n      <th>1</th>\n      <td>11.25</td>\n      <td>1</td>\n      <td>WEB</td>\n      <td>New York, NY - Kendall Park Commuter</td>\n      <td>310958</td>\n      <td>0.0</td>\n      <td>294729</td>\n      <td>11.25</td>\n      <td>0.0</td>\n      <td>Times Square</td>\n      <td>25</td>\n      <td>3</td>\n      <td>17</td>\n      <td>30</td>\n      <td>25</td>\n    </tr>\n    <tr>\n      <th>2</th>\n      <td>10.25</td>\n      <td>1</td>\n      <td>IOS</td>\n      <td>Kendall Park to NYC Commuter</td>\n      <td>16009</td>\n      <td>0.0</td>\n      <td>1338</td>\n      <td>10.25</td>\n      <td>0.0</td>\n      <td>Kendall Park Roller Skating Rink</td>\n      <td>25</td>\n      <td>5</td>\n      <td>6</td>\n      <td>25</td>\n      <td>25</td>\n    </tr>\n    <tr>\n      <th>3</th>\n      <td>10.25</td>\n      <td>1</td>\n      <td>IOS</td>\n      <td>New York, NY - Kendall Park Commuter</td>\n      <td>310958</td>\n      <td>0.0</td>\n      <td>1338</td>\n      <td>10.25</td>\n      <td>0.0</td>\n      <td>Kendall Park Roller Skating Rink</td>\n      <td>25</td>\n      <td>5</td>\n      <td>17</td>\n      <td>30</td>\n      <td>25</td>\n    </tr>\n    <tr>\n      <th>4</th>\n      <td>11.25</td>\n      <td>1</td>\n      <td>WEB</td>\n      <td>Kendall Park to NYC Commuter</td>\n      <td>16009</td>\n      <td>0.0</td>\n      <td>35</td>\n      <td>11.25</td>\n      <td>0.0</td>\n      <td>Kendall Park Post Office</td>\n      <td>25</td>\n      <td>5</td>\n      <td>6</td>\n      <td>25</td>\n      <td>25</td>\n    </tr>\n    <tr>\n      <th>...</th>\n      <td>...</td>\n      <td>...</td>\n      <td>...</td>\n      <td>...</td>\n      <td>...</td>\n      <td>...</td>\n      <td>...</td>\n      <td>...</td>\n      <td>...</td>\n      <td>...</td>\n      <td>...</td>\n      <td>...</td>\n      <td>...</td>\n      <td>...</td>\n      <td>...</td>\n    </tr>\n    <tr>\n      <th>265</th>\n      <td>11.25</td>\n      <td>1</td>\n      <td>IOS</td>\n      <td>Kendall Park to NYC Commuter</td>\n      <td>117711</td>\n      <td>0.0</td>\n      <td>430</td>\n      <td>11.25</td>\n      <td>0.0</td>\n      <td>Kendall Park Post Office</td>\n      <td>29</td>\n      <td>21</td>\n      <td>6</td>\n      <td>55</td>\n      <td>30</td>\n    </tr>\n    <tr>\n      <th>266</th>\n      <td>11.25</td>\n      <td>1</td>\n      <td>WEB</td>\n      <td>Kendall Park to NYC Commuter</td>\n      <td>16009</td>\n      <td>0.0</td>\n      <td>294729</td>\n      <td>11.25</td>\n      <td>0.0</td>\n      <td>Kendall Park Roller Skating Rink</td>\n      <td>29</td>\n      <td>22</td>\n      <td>6</td>\n      <td>25</td>\n      <td>30</td>\n    </tr>\n    <tr>\n      <th>267</th>\n      <td>11.25</td>\n      <td>1</td>\n      <td>WEB</td>\n      <td>New York, NY - Kendall Park Commuter</td>\n      <td>310958</td>\n      <td>0.0</td>\n      <td>294729</td>\n      <td>11.25</td>\n      <td>0.0</td>\n      <td>Times Square</td>\n      <td>29</td>\n      <td>22</td>\n      <td>17</td>\n      <td>30</td>\n      <td>30</td>\n    </tr>\n    <tr>\n      <th>268</th>\n      <td>11.25</td>\n      <td>1</td>\n      <td>IOS</td>\n      <td>Kendall Park to NYC Commuter</td>\n      <td>117711</td>\n      <td>0.0</td>\n      <td>260</td>\n      <td>11.25</td>\n      <td>0.0</td>\n      <td>Kendall Park Roller Skating Rink</td>\n      <td>29</td>\n      <td>22</td>\n      <td>6</td>\n      <td>55</td>\n      <td>30</td>\n    </tr>\n    <tr>\n      <th>269</th>\n      <td>11.25</td>\n      <td>1</td>\n      <td>ANDROID</td>\n      <td>Kendall Park to NYC Commuter</td>\n      <td>16009</td>\n      <td>0.0</td>\n      <td>3863</td>\n      <td>11.25</td>\n      <td>0.0</td>\n      <td>Kendall Park Roller Skating Rink</td>\n      <td>29</td>\n      <td>23</td>\n      <td>6</td>\n      <td>25</td>\n      <td>30</td>\n    </tr>\n  </tbody>\n</table>\n<p>270 rows × 15 columns</p>\n</div>"
     },
     "metadata": {},
     "execution_count": 9
    }
   ],
   "source": [
    "# Dropping the columns which contain only a single value because a single value in all the rows won't have any affect on the prediction \n",
    "redundant_columns = ['voucher_consumption', 'facility_fee', 'facility_fee', 'ff_discount', 'isCancel', 'bf_discount', 'commission', 'trip_type', 'isRelease', 'order_time', 'travel_date', 'paid_from_wallet', 'booking_fee' , 'departure_time', 'order_no']\n",
    "\n",
    "# Adding order_no in the redundant columns because it should not be a dependent variable in deciding the revenue.\n",
    "\n",
    "categorical_columns = ['pick_stop', 'trip_id', 'leg_name', 'source', ]\n",
    "\n",
    "df = df.drop(columns = redundant_columns,)\n",
    "df"
   ]
  },
  {
   "cell_type": "code",
   "execution_count": 10,
   "metadata": {},
   "outputs": [],
   "source": [
    "# One Hot encoding \n",
    "ohe = OneHotEncoder(categories='auto')\n",
    "feature_arr = ohe.fit_transform(df[categorical_columns]).toarray()\n",
    "feature_labels = ohe.categories_"
   ]
  },
  {
   "cell_type": "code",
   "execution_count": 11,
   "metadata": {},
   "outputs": [
    {
     "output_type": "execute_result",
     "data": {
      "text/plain": [
       "     discount_amount  adults  net_revenue  base_id  amount_in_usd  \\\n",
       "0              11.25       1          0.0   294729          11.25   \n",
       "1              11.25       1          0.0   294729          11.25   \n",
       "2              10.25       1          0.0     1338          10.25   \n",
       "3              10.25       1          0.0     1338          10.25   \n",
       "4              11.25       1          0.0       35          11.25   \n",
       "..               ...     ...          ...      ...            ...   \n",
       "265            11.25       1          0.0      430          11.25   \n",
       "266            11.25       1          0.0   294729          11.25   \n",
       "267            11.25       1          0.0   294729          11.25   \n",
       "268            11.25       1          0.0      260          11.25   \n",
       "269            11.25       1          0.0     3863          11.25   \n",
       "\n",
       "     paid_from_card  order_day  order_hour  departure_hour  departure_minute  \\\n",
       "0               0.0         25           3               6                25   \n",
       "1               0.0         25           3              17                30   \n",
       "2               0.0         25           5               6                25   \n",
       "3               0.0         25           5              17                30   \n",
       "4               0.0         25           5               6                25   \n",
       "..              ...        ...         ...             ...               ...   \n",
       "265             0.0         29          21               6                55   \n",
       "266             0.0         29          22               6                25   \n",
       "267             0.0         29          22              17                30   \n",
       "268             0.0         29          22               6                55   \n",
       "269             0.0         29          23               6                25   \n",
       "\n",
       "     ...    5    6    7    8    9   10   11   12   13   14  \n",
       "0    ...  0.0  1.0  0.0  0.0  0.0  1.0  0.0  0.0  0.0  1.0  \n",
       "1    ...  1.0  0.0  0.0  0.0  1.0  0.0  1.0  0.0  0.0  1.0  \n",
       "2    ...  0.0  1.0  0.0  0.0  0.0  1.0  0.0  0.0  1.0  0.0  \n",
       "3    ...  0.0  0.0  0.0  0.0  1.0  0.0  1.0  0.0  1.0  0.0  \n",
       "4    ...  0.0  1.0  0.0  0.0  0.0  1.0  0.0  0.0  0.0  1.0  \n",
       "..   ...  ...  ...  ...  ...  ...  ...  ...  ...  ...  ...  \n",
       "265  ...  0.0  0.0  1.0  0.0  0.0  1.0  0.0  0.0  1.0  0.0  \n",
       "266  ...  0.0  1.0  0.0  0.0  0.0  1.0  0.0  0.0  0.0  1.0  \n",
       "267  ...  1.0  0.0  0.0  0.0  1.0  0.0  1.0  0.0  0.0  1.0  \n",
       "268  ...  0.0  0.0  1.0  0.0  0.0  1.0  0.0  0.0  1.0  0.0  \n",
       "269  ...  0.0  1.0  0.0  0.0  0.0  1.0  0.0  1.0  0.0  0.0  \n",
       "\n",
       "[270 rows x 26 columns]"
      ],
      "text/html": "<div>\n<style scoped>\n    .dataframe tbody tr th:only-of-type {\n        vertical-align: middle;\n    }\n\n    .dataframe tbody tr th {\n        vertical-align: top;\n    }\n\n    .dataframe thead th {\n        text-align: right;\n    }\n</style>\n<table border=\"1\" class=\"dataframe\">\n  <thead>\n    <tr style=\"text-align: right;\">\n      <th></th>\n      <th>discount_amount</th>\n      <th>adults</th>\n      <th>net_revenue</th>\n      <th>base_id</th>\n      <th>amount_in_usd</th>\n      <th>paid_from_card</th>\n      <th>order_day</th>\n      <th>order_hour</th>\n      <th>departure_hour</th>\n      <th>departure_minute</th>\n      <th>...</th>\n      <th>5</th>\n      <th>6</th>\n      <th>7</th>\n      <th>8</th>\n      <th>9</th>\n      <th>10</th>\n      <th>11</th>\n      <th>12</th>\n      <th>13</th>\n      <th>14</th>\n    </tr>\n  </thead>\n  <tbody>\n    <tr>\n      <th>0</th>\n      <td>11.25</td>\n      <td>1</td>\n      <td>0.0</td>\n      <td>294729</td>\n      <td>11.25</td>\n      <td>0.0</td>\n      <td>25</td>\n      <td>3</td>\n      <td>6</td>\n      <td>25</td>\n      <td>...</td>\n      <td>0.0</td>\n      <td>1.0</td>\n      <td>0.0</td>\n      <td>0.0</td>\n      <td>0.0</td>\n      <td>1.0</td>\n      <td>0.0</td>\n      <td>0.0</td>\n      <td>0.0</td>\n      <td>1.0</td>\n    </tr>\n    <tr>\n      <th>1</th>\n      <td>11.25</td>\n      <td>1</td>\n      <td>0.0</td>\n      <td>294729</td>\n      <td>11.25</td>\n      <td>0.0</td>\n      <td>25</td>\n      <td>3</td>\n      <td>17</td>\n      <td>30</td>\n      <td>...</td>\n      <td>1.0</td>\n      <td>0.0</td>\n      <td>0.0</td>\n      <td>0.0</td>\n      <td>1.0</td>\n      <td>0.0</td>\n      <td>1.0</td>\n      <td>0.0</td>\n      <td>0.0</td>\n      <td>1.0</td>\n    </tr>\n    <tr>\n      <th>2</th>\n      <td>10.25</td>\n      <td>1</td>\n      <td>0.0</td>\n      <td>1338</td>\n      <td>10.25</td>\n      <td>0.0</td>\n      <td>25</td>\n      <td>5</td>\n      <td>6</td>\n      <td>25</td>\n      <td>...</td>\n      <td>0.0</td>\n      <td>1.0</td>\n      <td>0.0</td>\n      <td>0.0</td>\n      <td>0.0</td>\n      <td>1.0</td>\n      <td>0.0</td>\n      <td>0.0</td>\n      <td>1.0</td>\n      <td>0.0</td>\n    </tr>\n    <tr>\n      <th>3</th>\n      <td>10.25</td>\n      <td>1</td>\n      <td>0.0</td>\n      <td>1338</td>\n      <td>10.25</td>\n      <td>0.0</td>\n      <td>25</td>\n      <td>5</td>\n      <td>17</td>\n      <td>30</td>\n      <td>...</td>\n      <td>0.0</td>\n      <td>0.0</td>\n      <td>0.0</td>\n      <td>0.0</td>\n      <td>1.0</td>\n      <td>0.0</td>\n      <td>1.0</td>\n      <td>0.0</td>\n      <td>1.0</td>\n      <td>0.0</td>\n    </tr>\n    <tr>\n      <th>4</th>\n      <td>11.25</td>\n      <td>1</td>\n      <td>0.0</td>\n      <td>35</td>\n      <td>11.25</td>\n      <td>0.0</td>\n      <td>25</td>\n      <td>5</td>\n      <td>6</td>\n      <td>25</td>\n      <td>...</td>\n      <td>0.0</td>\n      <td>1.0</td>\n      <td>0.0</td>\n      <td>0.0</td>\n      <td>0.0</td>\n      <td>1.0</td>\n      <td>0.0</td>\n      <td>0.0</td>\n      <td>0.0</td>\n      <td>1.0</td>\n    </tr>\n    <tr>\n      <th>...</th>\n      <td>...</td>\n      <td>...</td>\n      <td>...</td>\n      <td>...</td>\n      <td>...</td>\n      <td>...</td>\n      <td>...</td>\n      <td>...</td>\n      <td>...</td>\n      <td>...</td>\n      <td>...</td>\n      <td>...</td>\n      <td>...</td>\n      <td>...</td>\n      <td>...</td>\n      <td>...</td>\n      <td>...</td>\n      <td>...</td>\n      <td>...</td>\n      <td>...</td>\n      <td>...</td>\n    </tr>\n    <tr>\n      <th>265</th>\n      <td>11.25</td>\n      <td>1</td>\n      <td>0.0</td>\n      <td>430</td>\n      <td>11.25</td>\n      <td>0.0</td>\n      <td>29</td>\n      <td>21</td>\n      <td>6</td>\n      <td>55</td>\n      <td>...</td>\n      <td>0.0</td>\n      <td>0.0</td>\n      <td>1.0</td>\n      <td>0.0</td>\n      <td>0.0</td>\n      <td>1.0</td>\n      <td>0.0</td>\n      <td>0.0</td>\n      <td>1.0</td>\n      <td>0.0</td>\n    </tr>\n    <tr>\n      <th>266</th>\n      <td>11.25</td>\n      <td>1</td>\n      <td>0.0</td>\n      <td>294729</td>\n      <td>11.25</td>\n      <td>0.0</td>\n      <td>29</td>\n      <td>22</td>\n      <td>6</td>\n      <td>25</td>\n      <td>...</td>\n      <td>0.0</td>\n      <td>1.0</td>\n      <td>0.0</td>\n      <td>0.0</td>\n      <td>0.0</td>\n      <td>1.0</td>\n      <td>0.0</td>\n      <td>0.0</td>\n      <td>0.0</td>\n      <td>1.0</td>\n    </tr>\n    <tr>\n      <th>267</th>\n      <td>11.25</td>\n      <td>1</td>\n      <td>0.0</td>\n      <td>294729</td>\n      <td>11.25</td>\n      <td>0.0</td>\n      <td>29</td>\n      <td>22</td>\n      <td>17</td>\n      <td>30</td>\n      <td>...</td>\n      <td>1.0</td>\n      <td>0.0</td>\n      <td>0.0</td>\n      <td>0.0</td>\n      <td>1.0</td>\n      <td>0.0</td>\n      <td>1.0</td>\n      <td>0.0</td>\n      <td>0.0</td>\n      <td>1.0</td>\n    </tr>\n    <tr>\n      <th>268</th>\n      <td>11.25</td>\n      <td>1</td>\n      <td>0.0</td>\n      <td>260</td>\n      <td>11.25</td>\n      <td>0.0</td>\n      <td>29</td>\n      <td>22</td>\n      <td>6</td>\n      <td>55</td>\n      <td>...</td>\n      <td>0.0</td>\n      <td>0.0</td>\n      <td>1.0</td>\n      <td>0.0</td>\n      <td>0.0</td>\n      <td>1.0</td>\n      <td>0.0</td>\n      <td>0.0</td>\n      <td>1.0</td>\n      <td>0.0</td>\n    </tr>\n    <tr>\n      <th>269</th>\n      <td>11.25</td>\n      <td>1</td>\n      <td>0.0</td>\n      <td>3863</td>\n      <td>11.25</td>\n      <td>0.0</td>\n      <td>29</td>\n      <td>23</td>\n      <td>6</td>\n      <td>25</td>\n      <td>...</td>\n      <td>0.0</td>\n      <td>1.0</td>\n      <td>0.0</td>\n      <td>0.0</td>\n      <td>0.0</td>\n      <td>1.0</td>\n      <td>0.0</td>\n      <td>1.0</td>\n      <td>0.0</td>\n      <td>0.0</td>\n    </tr>\n  </tbody>\n</table>\n<p>270 rows × 26 columns</p>\n</div>"
     },
     "metadata": {},
     "execution_count": 11
    }
   ],
   "source": [
    "feature_df = pd.DataFrame(feature_arr)\n",
    "\n",
    "try:\n",
    "    df = df.drop(columns = categorical_columns)\n",
    "except:\n",
    "    pass\n",
    "\n",
    "# concatenating feature_df with existing df\n",
    "\n",
    "main_df = pd.concat([df, feature_df], axis=1)\n",
    "\n",
    "main_df"
   ]
  },
  {
   "source": [
    "## Train Test Split "
   ],
   "cell_type": "markdown",
   "metadata": {}
  },
  {
   "cell_type": "code",
   "execution_count": 12,
   "metadata": {},
   "outputs": [
    {
     "output_type": "stream",
     "name": "stdout",
     "text": [
      "(243, 26) (27, 26) (243,) (27,)\n"
     ]
    }
   ],
   "source": [
    "main_df['target'] = main_df['adults'] * main_df['amount_in_usd']\n",
    "\n",
    "X = main_df.drop(['target'], axis = 1)\n",
    "Y = main_df['target']\n",
    "\n",
    "X_train, X_test, Y_train, Y_test = train_test_split(X, Y, test_size=0.10,random_state=0)\n",
    "\n",
    "print(X_train.shape, X_test.shape, Y_train.shape, Y_test.shape)"
   ]
  },
  {
   "source": [
    "## Model \n",
    "\n",
    "1. Decision Tree Regressor\n",
    "2. Random Forest Regressor"
   ],
   "cell_type": "markdown",
   "metadata": {}
  },
  {
   "cell_type": "code",
   "execution_count": 13,
   "metadata": {},
   "outputs": [
    {
     "output_type": "execute_result",
     "data": {
      "text/plain": [
       "DecisionTreeRegressor(random_state=0)"
      ]
     },
     "metadata": {},
     "execution_count": 13
    }
   ],
   "source": [
    "dt_reg = DecisionTreeRegressor(random_state=0)\n",
    "dt_reg.fit(X_train, Y_train)"
   ]
  },
  {
   "cell_type": "code",
   "execution_count": 14,
   "metadata": {},
   "outputs": [],
   "source": [
    "# Feature Importance\n",
    "# sum adult group by date \n",
    "def feature_imp(model, X_test, Y_test):\n",
    "    print(\"Feature Importance:\\n\")\n",
    "    for name, importance in zip(X.columns, np.sort(model.feature_importances_)[::-1]):print(\"{} --{:.2f}\".format(name, importance))\n",
    "\n",
    "\n",
    "    print(\"score\" , model.score(X_test, Y_test))\n",
    "    y_pred = model.predict(X_test)\n",
    "    return y_pred\n"
   ]
  },
  {
   "cell_type": "code",
   "execution_count": 15,
   "metadata": {},
   "outputs": [
    {
     "output_type": "stream",
     "name": "stdout",
     "text": [
      "Feature Importance:\n\ndiscount_amount --0.97\nadults --0.03\nnet_revenue --0.00\nbase_id --0.00\namount_in_usd --0.00\npaid_from_card --0.00\norder_day --0.00\norder_hour --0.00\ndeparture_hour --0.00\ndeparture_minute --0.00\ntravel_day --0.00\n0 --0.00\n1 --0.00\n2 --0.00\n3 --0.00\n4 --0.00\n5 --0.00\n6 --0.00\n7 --0.00\n8 --0.00\n9 --0.00\n10 --0.00\n11 --0.00\n12 --0.00\n13 --0.00\n14 --0.00\nscore 1.0\n"
     ]
    },
    {
     "output_type": "execute_result",
     "data": {
      "text/plain": [
       "array([11.25, 11.25, 11.25, 10.25, 10.25, 11.25, 11.25, 11.25, 10.25,\n",
       "       11.25, 11.25, 11.25, 11.25, 10.25, 11.25, 11.25, 11.25, 10.25,\n",
       "       10.25, 11.25, 11.25, 11.25, 11.25, 11.25, 10.25, 11.25, 11.25])"
      ]
     },
     "metadata": {},
     "execution_count": 15
    }
   ],
   "source": [
    "feature_imp(dt_reg, X_test, Y_test)\n"
   ]
  },
  {
   "cell_type": "code",
   "execution_count": 17,
   "metadata": {},
   "outputs": [
    {
     "output_type": "execute_result",
     "data": {
      "text/plain": [
       "RandomForestRegressor(random_state=0)"
      ]
     },
     "metadata": {},
     "execution_count": 17
    }
   ],
   "source": [
    "rf_reg = RandomForestRegressor(random_state=0)\n",
    "rf_reg.fit(X_train, Y_train)\n",
    "feature_imp(rf_reg, X_test, Y_test)"
   ]
  },
  {
   "cell_type": "code",
   "execution_count": 21,
   "metadata": {},
   "outputs": [
    {
     "output_type": "execute_result",
     "data": {
      "text/plain": [
       "       DT     RF\n",
       "0   11.25  11.25\n",
       "1   11.25  11.25\n",
       "2   11.25  11.25\n",
       "3   10.25  10.25\n",
       "4   10.25  10.25\n",
       "5   11.25  11.25\n",
       "6   11.25  11.25\n",
       "7   11.25  11.25\n",
       "8   10.25  10.25\n",
       "9   11.25  11.25\n",
       "10  11.25  11.25\n",
       "11  11.25  11.25\n",
       "12  11.25  11.25\n",
       "13  10.25  10.25\n",
       "14  11.25  11.25\n",
       "15  11.25  11.25\n",
       "16  11.25  11.25\n",
       "17  10.25  10.25\n",
       "18  10.25  10.25\n",
       "19  11.25  11.25\n",
       "20  11.25  11.25\n",
       "21  11.25  11.25\n",
       "22  11.25  11.25\n",
       "23  11.25  11.25\n",
       "24  10.25  10.25\n",
       "25  11.25  11.25\n",
       "26  11.25  11.25"
      ],
      "text/html": "<div>\n<style scoped>\n    .dataframe tbody tr th:only-of-type {\n        vertical-align: middle;\n    }\n\n    .dataframe tbody tr th {\n        vertical-align: top;\n    }\n\n    .dataframe thead th {\n        text-align: right;\n    }\n</style>\n<table border=\"1\" class=\"dataframe\">\n  <thead>\n    <tr style=\"text-align: right;\">\n      <th></th>\n      <th>DT</th>\n      <th>RF</th>\n    </tr>\n  </thead>\n  <tbody>\n    <tr>\n      <th>0</th>\n      <td>11.25</td>\n      <td>11.25</td>\n    </tr>\n    <tr>\n      <th>1</th>\n      <td>11.25</td>\n      <td>11.25</td>\n    </tr>\n    <tr>\n      <th>2</th>\n      <td>11.25</td>\n      <td>11.25</td>\n    </tr>\n    <tr>\n      <th>3</th>\n      <td>10.25</td>\n      <td>10.25</td>\n    </tr>\n    <tr>\n      <th>4</th>\n      <td>10.25</td>\n      <td>10.25</td>\n    </tr>\n    <tr>\n      <th>5</th>\n      <td>11.25</td>\n      <td>11.25</td>\n    </tr>\n    <tr>\n      <th>6</th>\n      <td>11.25</td>\n      <td>11.25</td>\n    </tr>\n    <tr>\n      <th>7</th>\n      <td>11.25</td>\n      <td>11.25</td>\n    </tr>\n    <tr>\n      <th>8</th>\n      <td>10.25</td>\n      <td>10.25</td>\n    </tr>\n    <tr>\n      <th>9</th>\n      <td>11.25</td>\n      <td>11.25</td>\n    </tr>\n    <tr>\n      <th>10</th>\n      <td>11.25</td>\n      <td>11.25</td>\n    </tr>\n    <tr>\n      <th>11</th>\n      <td>11.25</td>\n      <td>11.25</td>\n    </tr>\n    <tr>\n      <th>12</th>\n      <td>11.25</td>\n      <td>11.25</td>\n    </tr>\n    <tr>\n      <th>13</th>\n      <td>10.25</td>\n      <td>10.25</td>\n    </tr>\n    <tr>\n      <th>14</th>\n      <td>11.25</td>\n      <td>11.25</td>\n    </tr>\n    <tr>\n      <th>15</th>\n      <td>11.25</td>\n      <td>11.25</td>\n    </tr>\n    <tr>\n      <th>16</th>\n      <td>11.25</td>\n      <td>11.25</td>\n    </tr>\n    <tr>\n      <th>17</th>\n      <td>10.25</td>\n      <td>10.25</td>\n    </tr>\n    <tr>\n      <th>18</th>\n      <td>10.25</td>\n      <td>10.25</td>\n    </tr>\n    <tr>\n      <th>19</th>\n      <td>11.25</td>\n      <td>11.25</td>\n    </tr>\n    <tr>\n      <th>20</th>\n      <td>11.25</td>\n      <td>11.25</td>\n    </tr>\n    <tr>\n      <th>21</th>\n      <td>11.25</td>\n      <td>11.25</td>\n    </tr>\n    <tr>\n      <th>22</th>\n      <td>11.25</td>\n      <td>11.25</td>\n    </tr>\n    <tr>\n      <th>23</th>\n      <td>11.25</td>\n      <td>11.25</td>\n    </tr>\n    <tr>\n      <th>24</th>\n      <td>10.25</td>\n      <td>10.25</td>\n    </tr>\n    <tr>\n      <th>25</th>\n      <td>11.25</td>\n      <td>11.25</td>\n    </tr>\n    <tr>\n      <th>26</th>\n      <td>11.25</td>\n      <td>11.25</td>\n    </tr>\n  </tbody>\n</table>\n</div>"
     },
     "metadata": {},
     "execution_count": 21
    }
   ],
   "source": [
    "predict_df = pd.DataFrame()\n",
    "predict_df['DT'] = dt_reg.predict(X_test)\n",
    "predict_df['RF'] = rf_reg.predict(X_test)\n",
    "predict_df"
   ]
  },
  {
   "cell_type": "code",
   "execution_count": 25,
   "metadata": {},
   "outputs": [
    {
     "output_type": "error",
     "ename": "TypeError",
     "evalue": "fit() missing 1 required positional argument: 'self'",
     "traceback": [
      "\u001b[1;31m---------------------------------------------------------------------------\u001b[0m",
      "\u001b[1;31mTypeError\u001b[0m                                 Traceback (most recent call last)",
      "\u001b[1;32m<ipython-input-25-4c88ea94237d>\u001b[0m in \u001b[0;36m<module>\u001b[1;34m\u001b[0m\n\u001b[0;32m      1\u001b[0m \u001b[0msvr\u001b[0m \u001b[1;33m=\u001b[0m \u001b[0msklearn\u001b[0m\u001b[1;33m.\u001b[0m\u001b[0msvm\u001b[0m\u001b[1;33m.\u001b[0m\u001b[0mSVR\u001b[0m\u001b[1;33m\u001b[0m\u001b[1;33m\u001b[0m\u001b[0m\n\u001b[1;32m----> 2\u001b[1;33m \u001b[0msvr\u001b[0m\u001b[1;33m.\u001b[0m\u001b[0mfit\u001b[0m\u001b[1;33m(\u001b[0m\u001b[0mX\u001b[0m \u001b[1;33m=\u001b[0m \u001b[0mX_train\u001b[0m\u001b[1;33m,\u001b[0m\u001b[0my\u001b[0m \u001b[1;33m=\u001b[0m \u001b[0mY_train\u001b[0m\u001b[1;33m)\u001b[0m\u001b[1;33m\u001b[0m\u001b[1;33m\u001b[0m\u001b[0m\n\u001b[0m",
      "\u001b[1;31mTypeError\u001b[0m: fit() missing 1 required positional argument: 'self'"
     ]
    }
   ],
   "source": [
    "svr = sklearn.svm.SVR\n",
    "svr.fit(X = X_train,y = Y_train)"
   ]
  },
  {
   "cell_type": "code",
   "execution_count": null,
   "metadata": {},
   "outputs": [],
   "source": []
  }
 ]
}