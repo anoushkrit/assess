{
 "metadata": {
  "language_info": {
   "codemirror_mode": {
    "name": "ipython",
    "version": 3
   },
   "file_extension": ".py",
   "mimetype": "text/x-python",
   "name": "python",
   "nbconvert_exporter": "python",
   "pygments_lexer": "ipython3",
   "version": "3.8.5"
  },
  "orig_nbformat": 2,
  "kernelspec": {
   "name": "python3",
   "display_name": "Python 3.8.5 64-bit ('base': conda)",
   "metadata": {
    "interpreter": {
     "hash": "b3ba2566441a7c06988d0923437866b63cedc61552a5af99d1f4fb67d367b25f"
    }
   }
  }
 },
 "nbformat": 4,
 "nbformat_minor": 2,
 "cells": [
  {
   "cell_type": "code",
   "execution_count": 1,
   "metadata": {},
   "outputs": [],
   "source": [
    "import pandas as pd \n",
    "import numpy as np"
   ]
  },
  {
   "cell_type": "code",
   "execution_count": 2,
   "metadata": {},
   "outputs": [
    {
     "output_type": "stream",
     "name": "stdout",
     "text": [
      "<class 'pandas.core.frame.DataFrame'>\nRangeIndex: 178 entries, 0 to 177\nData columns (total 8 columns):\n #   Column    Non-Null Count  Dtype \n---  ------    --------------  ----- \n 0   OBSNO     178 non-null    int64 \n 1   AGE       178 non-null    object\n 2   SEX       178 non-null    int64 \n 3   ALKPHOS   178 non-null    object\n 4   LAB       178 non-null    object\n 5   CAMMOL    178 non-null    object\n 6   PHOSMMOL  178 non-null    object\n 7   AGEGROUP  178 non-null    object\ndtypes: int64(2), object(6)\nmemory usage: 11.2+ KB\n<class 'pandas.core.frame.DataFrame'>\nRangeIndex: 34 entries, 0 to 33\nData columns (total 4 columns):\n #   Column    Non-Null Count  Dtype \n---  ------    --------------  ----- \n 0   OBSNO     34 non-null     int64 \n 1   variable  34 non-null     object\n 2   problem   34 non-null     object\n 3   correct   34 non-null     object\ndtypes: int64(1), object(3)\nmemory usage: 1.2+ KB\n"
     ]
    },
    {
     "output_type": "execute_result",
     "data": {
      "text/plain": [
       "     OBSNO AGE  SEX ALKPHOS LAB CAMMOL PHOSMMOL AGEGROUP\n",
       "0        1  78    2      83   4   2.53     1.07     3.00\n",
       "1        2  72    2     117   4   2.50     1.16     2.00\n",
       "2        3  72    2     132   4   2.43     1.13     2.00\n",
       "3        4  73    2     102   4   2.48     0.81     2.00\n",
       "4        5  73    2     114   4   2.33     1.13     2.00\n",
       "..     ...  ..  ...     ...  ..    ...      ...      ...\n",
       "173    174  72    2     138   3   2.45     1.07     2.00\n",
       "174    175  71    2     115   3   2.18     1.10     2.00\n",
       "175    176  67    2      84   6   2.30     2.16     1.00\n",
       "176    177  77    2      83   4   2.65     0.97     3.00\n",
       "177    178  70    2     124   4   2.50     0.97     2.00\n",
       "\n",
       "[178 rows x 8 columns]"
      ],
      "text/html": "<div>\n<style scoped>\n    .dataframe tbody tr th:only-of-type {\n        vertical-align: middle;\n    }\n\n    .dataframe tbody tr th {\n        vertical-align: top;\n    }\n\n    .dataframe thead th {\n        text-align: right;\n    }\n</style>\n<table border=\"1\" class=\"dataframe\">\n  <thead>\n    <tr style=\"text-align: right;\">\n      <th></th>\n      <th>OBSNO</th>\n      <th>AGE</th>\n      <th>SEX</th>\n      <th>ALKPHOS</th>\n      <th>LAB</th>\n      <th>CAMMOL</th>\n      <th>PHOSMMOL</th>\n      <th>AGEGROUP</th>\n    </tr>\n  </thead>\n  <tbody>\n    <tr>\n      <th>0</th>\n      <td>1</td>\n      <td>78</td>\n      <td>2</td>\n      <td>83</td>\n      <td>4</td>\n      <td>2.53</td>\n      <td>1.07</td>\n      <td>3.00</td>\n    </tr>\n    <tr>\n      <th>1</th>\n      <td>2</td>\n      <td>72</td>\n      <td>2</td>\n      <td>117</td>\n      <td>4</td>\n      <td>2.50</td>\n      <td>1.16</td>\n      <td>2.00</td>\n    </tr>\n    <tr>\n      <th>2</th>\n      <td>3</td>\n      <td>72</td>\n      <td>2</td>\n      <td>132</td>\n      <td>4</td>\n      <td>2.43</td>\n      <td>1.13</td>\n      <td>2.00</td>\n    </tr>\n    <tr>\n      <th>3</th>\n      <td>4</td>\n      <td>73</td>\n      <td>2</td>\n      <td>102</td>\n      <td>4</td>\n      <td>2.48</td>\n      <td>0.81</td>\n      <td>2.00</td>\n    </tr>\n    <tr>\n      <th>4</th>\n      <td>5</td>\n      <td>73</td>\n      <td>2</td>\n      <td>114</td>\n      <td>4</td>\n      <td>2.33</td>\n      <td>1.13</td>\n      <td>2.00</td>\n    </tr>\n    <tr>\n      <th>...</th>\n      <td>...</td>\n      <td>...</td>\n      <td>...</td>\n      <td>...</td>\n      <td>...</td>\n      <td>...</td>\n      <td>...</td>\n      <td>...</td>\n    </tr>\n    <tr>\n      <th>173</th>\n      <td>174</td>\n      <td>72</td>\n      <td>2</td>\n      <td>138</td>\n      <td>3</td>\n      <td>2.45</td>\n      <td>1.07</td>\n      <td>2.00</td>\n    </tr>\n    <tr>\n      <th>174</th>\n      <td>175</td>\n      <td>71</td>\n      <td>2</td>\n      <td>115</td>\n      <td>3</td>\n      <td>2.18</td>\n      <td>1.10</td>\n      <td>2.00</td>\n    </tr>\n    <tr>\n      <th>175</th>\n      <td>176</td>\n      <td>67</td>\n      <td>2</td>\n      <td>84</td>\n      <td>6</td>\n      <td>2.30</td>\n      <td>2.16</td>\n      <td>1.00</td>\n    </tr>\n    <tr>\n      <th>176</th>\n      <td>177</td>\n      <td>77</td>\n      <td>2</td>\n      <td>83</td>\n      <td>4</td>\n      <td>2.65</td>\n      <td>0.97</td>\n      <td>3.00</td>\n    </tr>\n    <tr>\n      <th>177</th>\n      <td>178</td>\n      <td>70</td>\n      <td>2</td>\n      <td>124</td>\n      <td>4</td>\n      <td>2.50</td>\n      <td>0.97</td>\n      <td>2.00</td>\n    </tr>\n  </tbody>\n</table>\n<p>178 rows × 8 columns</p>\n</div>"
     },
     "metadata": {},
     "execution_count": 2
    }
   ],
   "source": [
    "calcium_df = pd.read_csv(\"calcium.csv\")\n",
    "reference_df = pd.read_csv(\"calciumcorrect.csv\")\n",
    "calcium_df.info()\n",
    "reference_df.info()\n",
    "\n",
    "calcium_df\n"
   ]
  },
  {
   "cell_type": "code",
   "execution_count": 3,
   "metadata": {},
   "outputs": [
    {
     "output_type": "execute_result",
     "data": {
      "text/plain": [
       "    OBSNO  variable  problem  correct\n",
       "0      11       age      771       71\n",
       "1      53       age      699       69\n",
       "2     123       age      730       73\n",
       "3      28       sex       22        2\n",
       "4     120       sex       11        1\n",
       "5     173       sex       22        2\n",
       "6      21    cammol      3.2      2.2\n",
       "7      25    cammol     25.3     2.53\n",
       "8      26    cammol       20        2\n",
       "9      27    cammol     22.3     2.23\n",
       "10     28    cammol     24.3     2.43\n",
       "11     29    cammol       25      2.5\n",
       "12     30    cammol     23.3     2.33\n",
       "13     31    cammol       24      2.4\n",
       "14     32    cammol       25      2.5\n",
       "15     33    cammol       25      2.5\n",
       "16     34    cammol     23.5     2.35\n",
       "17     35    cammol     22.5     2.25\n",
       "18     36    cammol     24.5     2.45\n",
       "19     37    cammol    23.33     2.33\n",
       "20    149    cammol     1.05     2.05\n",
       "21      6       lab       43        4\n",
       "22     78       lab       21        2\n",
       "23     32  phosmmol     3.21     1.23\n",
       "24    108  phosmmol     0.09      0.9\n",
       "25    132  phosmmol     8.84     0.84\n",
       "26    176  phosmmol     2.16     1.26\n",
       "27     22   alkphos  Missing       64\n",
       "28     60   alkphos      9.7       97\n",
       "29     79  agegroup  Missing        4\n",
       "30     42  phosmmol  Missing  Missing\n",
       "31    105       age  Missing  Missing\n",
       "32    170       lab  Missing  Missing\n",
       "33     85    cammol  Missing  Missing"
      ],
      "text/html": "<div>\n<style scoped>\n    .dataframe tbody tr th:only-of-type {\n        vertical-align: middle;\n    }\n\n    .dataframe tbody tr th {\n        vertical-align: top;\n    }\n\n    .dataframe thead th {\n        text-align: right;\n    }\n</style>\n<table border=\"1\" class=\"dataframe\">\n  <thead>\n    <tr style=\"text-align: right;\">\n      <th></th>\n      <th>OBSNO</th>\n      <th>variable</th>\n      <th>problem</th>\n      <th>correct</th>\n    </tr>\n  </thead>\n  <tbody>\n    <tr>\n      <th>0</th>\n      <td>11</td>\n      <td>age</td>\n      <td>771</td>\n      <td>71</td>\n    </tr>\n    <tr>\n      <th>1</th>\n      <td>53</td>\n      <td>age</td>\n      <td>699</td>\n      <td>69</td>\n    </tr>\n    <tr>\n      <th>2</th>\n      <td>123</td>\n      <td>age</td>\n      <td>730</td>\n      <td>73</td>\n    </tr>\n    <tr>\n      <th>3</th>\n      <td>28</td>\n      <td>sex</td>\n      <td>22</td>\n      <td>2</td>\n    </tr>\n    <tr>\n      <th>4</th>\n      <td>120</td>\n      <td>sex</td>\n      <td>11</td>\n      <td>1</td>\n    </tr>\n    <tr>\n      <th>5</th>\n      <td>173</td>\n      <td>sex</td>\n      <td>22</td>\n      <td>2</td>\n    </tr>\n    <tr>\n      <th>6</th>\n      <td>21</td>\n      <td>cammol</td>\n      <td>3.2</td>\n      <td>2.2</td>\n    </tr>\n    <tr>\n      <th>7</th>\n      <td>25</td>\n      <td>cammol</td>\n      <td>25.3</td>\n      <td>2.53</td>\n    </tr>\n    <tr>\n      <th>8</th>\n      <td>26</td>\n      <td>cammol</td>\n      <td>20</td>\n      <td>2</td>\n    </tr>\n    <tr>\n      <th>9</th>\n      <td>27</td>\n      <td>cammol</td>\n      <td>22.3</td>\n      <td>2.23</td>\n    </tr>\n    <tr>\n      <th>10</th>\n      <td>28</td>\n      <td>cammol</td>\n      <td>24.3</td>\n      <td>2.43</td>\n    </tr>\n    <tr>\n      <th>11</th>\n      <td>29</td>\n      <td>cammol</td>\n      <td>25</td>\n      <td>2.5</td>\n    </tr>\n    <tr>\n      <th>12</th>\n      <td>30</td>\n      <td>cammol</td>\n      <td>23.3</td>\n      <td>2.33</td>\n    </tr>\n    <tr>\n      <th>13</th>\n      <td>31</td>\n      <td>cammol</td>\n      <td>24</td>\n      <td>2.4</td>\n    </tr>\n    <tr>\n      <th>14</th>\n      <td>32</td>\n      <td>cammol</td>\n      <td>25</td>\n      <td>2.5</td>\n    </tr>\n    <tr>\n      <th>15</th>\n      <td>33</td>\n      <td>cammol</td>\n      <td>25</td>\n      <td>2.5</td>\n    </tr>\n    <tr>\n      <th>16</th>\n      <td>34</td>\n      <td>cammol</td>\n      <td>23.5</td>\n      <td>2.35</td>\n    </tr>\n    <tr>\n      <th>17</th>\n      <td>35</td>\n      <td>cammol</td>\n      <td>22.5</td>\n      <td>2.25</td>\n    </tr>\n    <tr>\n      <th>18</th>\n      <td>36</td>\n      <td>cammol</td>\n      <td>24.5</td>\n      <td>2.45</td>\n    </tr>\n    <tr>\n      <th>19</th>\n      <td>37</td>\n      <td>cammol</td>\n      <td>23.33</td>\n      <td>2.33</td>\n    </tr>\n    <tr>\n      <th>20</th>\n      <td>149</td>\n      <td>cammol</td>\n      <td>1.05</td>\n      <td>2.05</td>\n    </tr>\n    <tr>\n      <th>21</th>\n      <td>6</td>\n      <td>lab</td>\n      <td>43</td>\n      <td>4</td>\n    </tr>\n    <tr>\n      <th>22</th>\n      <td>78</td>\n      <td>lab</td>\n      <td>21</td>\n      <td>2</td>\n    </tr>\n    <tr>\n      <th>23</th>\n      <td>32</td>\n      <td>phosmmol</td>\n      <td>3.21</td>\n      <td>1.23</td>\n    </tr>\n    <tr>\n      <th>24</th>\n      <td>108</td>\n      <td>phosmmol</td>\n      <td>0.09</td>\n      <td>0.9</td>\n    </tr>\n    <tr>\n      <th>25</th>\n      <td>132</td>\n      <td>phosmmol</td>\n      <td>8.84</td>\n      <td>0.84</td>\n    </tr>\n    <tr>\n      <th>26</th>\n      <td>176</td>\n      <td>phosmmol</td>\n      <td>2.16</td>\n      <td>1.26</td>\n    </tr>\n    <tr>\n      <th>27</th>\n      <td>22</td>\n      <td>alkphos</td>\n      <td>Missing</td>\n      <td>64</td>\n    </tr>\n    <tr>\n      <th>28</th>\n      <td>60</td>\n      <td>alkphos</td>\n      <td>9.7</td>\n      <td>97</td>\n    </tr>\n    <tr>\n      <th>29</th>\n      <td>79</td>\n      <td>agegroup</td>\n      <td>Missing</td>\n      <td>4</td>\n    </tr>\n    <tr>\n      <th>30</th>\n      <td>42</td>\n      <td>phosmmol</td>\n      <td>Missing</td>\n      <td>Missing</td>\n    </tr>\n    <tr>\n      <th>31</th>\n      <td>105</td>\n      <td>age</td>\n      <td>Missing</td>\n      <td>Missing</td>\n    </tr>\n    <tr>\n      <th>32</th>\n      <td>170</td>\n      <td>lab</td>\n      <td>Missing</td>\n      <td>Missing</td>\n    </tr>\n    <tr>\n      <th>33</th>\n      <td>85</td>\n      <td>cammol</td>\n      <td>Missing</td>\n      <td>Missing</td>\n    </tr>\n  </tbody>\n</table>\n</div>"
     },
     "metadata": {},
     "execution_count": 3
    }
   ],
   "source": [
    "# Removing key errors\n",
    "\n",
    "reference_df = reference_df.replace('phosmol', 'phosmmol')\n",
    "reference_df = reference_df.replace('Phosmol', 'phosmmol')\n",
    "calcium_df = calcium_df.replace('PSHOM', 'phosmmol')\n",
    "\n",
    "reference_df"
   ]
  },
  {
   "cell_type": "code",
   "execution_count": 4,
   "metadata": {},
   "outputs": [
    {
     "output_type": "stream",
     "name": "stdout",
     "text": [
      "(178, 8)\n",
      "(174, 8)\n",
      "<ipython-input-4-2e42bf8fe08a>:8: SettingWithCopyWarning: \n",
      "A value is trying to be set on a copy of a slice from a DataFrame\n",
      "\n",
      "See the caveats in the documentation: https://pandas.pydata.org/pandas-docs/stable/user_guide/indexing.html#returning-a-view-versus-a-copy\n",
      "  calcium_df[var.upper()][calcium_df['OBSNO'] == obs] = correct_value\n",
      "<ipython-input-4-2e42bf8fe08a>:8: SettingWithCopyWarning: \n",
      "A value is trying to be set on a copy of a slice from a DataFrame\n",
      "\n",
      "See the caveats in the documentation: https://pandas.pydata.org/pandas-docs/stable/user_guide/indexing.html#returning-a-view-versus-a-copy\n",
      "  calcium_df[var.upper()][calcium_df['OBSNO'] == obs] = correct_value\n",
      "<ipython-input-4-2e42bf8fe08a>:8: SettingWithCopyWarning: \n",
      "A value is trying to be set on a copy of a slice from a DataFrame\n",
      "\n",
      "See the caveats in the documentation: https://pandas.pydata.org/pandas-docs/stable/user_guide/indexing.html#returning-a-view-versus-a-copy\n",
      "  calcium_df[var.upper()][calcium_df['OBSNO'] == obs] = correct_value\n",
      "<ipython-input-4-2e42bf8fe08a>:8: SettingWithCopyWarning: \n",
      "A value is trying to be set on a copy of a slice from a DataFrame\n",
      "\n",
      "See the caveats in the documentation: https://pandas.pydata.org/pandas-docs/stable/user_guide/indexing.html#returning-a-view-versus-a-copy\n",
      "  calcium_df[var.upper()][calcium_df['OBSNO'] == obs] = correct_value\n",
      "<ipython-input-4-2e42bf8fe08a>:8: SettingWithCopyWarning: \n",
      "A value is trying to be set on a copy of a slice from a DataFrame\n",
      "\n",
      "See the caveats in the documentation: https://pandas.pydata.org/pandas-docs/stable/user_guide/indexing.html#returning-a-view-versus-a-copy\n",
      "  calcium_df[var.upper()][calcium_df['OBSNO'] == obs] = correct_value\n",
      "<ipython-input-4-2e42bf8fe08a>:8: SettingWithCopyWarning: \n",
      "A value is trying to be set on a copy of a slice from a DataFrame\n",
      "\n",
      "See the caveats in the documentation: https://pandas.pydata.org/pandas-docs/stable/user_guide/indexing.html#returning-a-view-versus-a-copy\n",
      "  calcium_df[var.upper()][calcium_df['OBSNO'] == obs] = correct_value\n",
      "<ipython-input-4-2e42bf8fe08a>:8: SettingWithCopyWarning: \n",
      "A value is trying to be set on a copy of a slice from a DataFrame\n",
      "\n",
      "See the caveats in the documentation: https://pandas.pydata.org/pandas-docs/stable/user_guide/indexing.html#returning-a-view-versus-a-copy\n",
      "  calcium_df[var.upper()][calcium_df['OBSNO'] == obs] = correct_value\n",
      "<ipython-input-4-2e42bf8fe08a>:8: SettingWithCopyWarning: \n",
      "A value is trying to be set on a copy of a slice from a DataFrame\n",
      "\n",
      "See the caveats in the documentation: https://pandas.pydata.org/pandas-docs/stable/user_guide/indexing.html#returning-a-view-versus-a-copy\n",
      "  calcium_df[var.upper()][calcium_df['OBSNO'] == obs] = correct_value\n",
      "<ipython-input-4-2e42bf8fe08a>:8: SettingWithCopyWarning: \n",
      "A value is trying to be set on a copy of a slice from a DataFrame\n",
      "\n",
      "See the caveats in the documentation: https://pandas.pydata.org/pandas-docs/stable/user_guide/indexing.html#returning-a-view-versus-a-copy\n",
      "  calcium_df[var.upper()][calcium_df['OBSNO'] == obs] = correct_value\n",
      "<ipython-input-4-2e42bf8fe08a>:8: SettingWithCopyWarning: \n",
      "A value is trying to be set on a copy of a slice from a DataFrame\n",
      "\n",
      "See the caveats in the documentation: https://pandas.pydata.org/pandas-docs/stable/user_guide/indexing.html#returning-a-view-versus-a-copy\n",
      "  calcium_df[var.upper()][calcium_df['OBSNO'] == obs] = correct_value\n",
      "<ipython-input-4-2e42bf8fe08a>:8: SettingWithCopyWarning: \n",
      "A value is trying to be set on a copy of a slice from a DataFrame\n",
      "\n",
      "See the caveats in the documentation: https://pandas.pydata.org/pandas-docs/stable/user_guide/indexing.html#returning-a-view-versus-a-copy\n",
      "  calcium_df[var.upper()][calcium_df['OBSNO'] == obs] = correct_value\n",
      "<ipython-input-4-2e42bf8fe08a>:8: SettingWithCopyWarning: \n",
      "A value is trying to be set on a copy of a slice from a DataFrame\n",
      "\n",
      "See the caveats in the documentation: https://pandas.pydata.org/pandas-docs/stable/user_guide/indexing.html#returning-a-view-versus-a-copy\n",
      "  calcium_df[var.upper()][calcium_df['OBSNO'] == obs] = correct_value\n",
      "<ipython-input-4-2e42bf8fe08a>:8: SettingWithCopyWarning: \n",
      "A value is trying to be set on a copy of a slice from a DataFrame\n",
      "\n",
      "See the caveats in the documentation: https://pandas.pydata.org/pandas-docs/stable/user_guide/indexing.html#returning-a-view-versus-a-copy\n",
      "  calcium_df[var.upper()][calcium_df['OBSNO'] == obs] = correct_value\n",
      "<ipython-input-4-2e42bf8fe08a>:8: SettingWithCopyWarning: \n",
      "A value is trying to be set on a copy of a slice from a DataFrame\n",
      "\n",
      "See the caveats in the documentation: https://pandas.pydata.org/pandas-docs/stable/user_guide/indexing.html#returning-a-view-versus-a-copy\n",
      "  calcium_df[var.upper()][calcium_df['OBSNO'] == obs] = correct_value\n",
      "<ipython-input-4-2e42bf8fe08a>:8: SettingWithCopyWarning: \n",
      "A value is trying to be set on a copy of a slice from a DataFrame\n",
      "\n",
      "See the caveats in the documentation: https://pandas.pydata.org/pandas-docs/stable/user_guide/indexing.html#returning-a-view-versus-a-copy\n",
      "  calcium_df[var.upper()][calcium_df['OBSNO'] == obs] = correct_value\n",
      "<ipython-input-4-2e42bf8fe08a>:8: SettingWithCopyWarning: \n",
      "A value is trying to be set on a copy of a slice from a DataFrame\n",
      "\n",
      "See the caveats in the documentation: https://pandas.pydata.org/pandas-docs/stable/user_guide/indexing.html#returning-a-view-versus-a-copy\n",
      "  calcium_df[var.upper()][calcium_df['OBSNO'] == obs] = correct_value\n",
      "<ipython-input-4-2e42bf8fe08a>:8: SettingWithCopyWarning: \n",
      "A value is trying to be set on a copy of a slice from a DataFrame\n",
      "\n",
      "See the caveats in the documentation: https://pandas.pydata.org/pandas-docs/stable/user_guide/indexing.html#returning-a-view-versus-a-copy\n",
      "  calcium_df[var.upper()][calcium_df['OBSNO'] == obs] = correct_value\n",
      "<ipython-input-4-2e42bf8fe08a>:8: SettingWithCopyWarning: \n",
      "A value is trying to be set on a copy of a slice from a DataFrame\n",
      "\n",
      "See the caveats in the documentation: https://pandas.pydata.org/pandas-docs/stable/user_guide/indexing.html#returning-a-view-versus-a-copy\n",
      "  calcium_df[var.upper()][calcium_df['OBSNO'] == obs] = correct_value\n",
      "<ipython-input-4-2e42bf8fe08a>:8: SettingWithCopyWarning: \n",
      "A value is trying to be set on a copy of a slice from a DataFrame\n",
      "\n",
      "See the caveats in the documentation: https://pandas.pydata.org/pandas-docs/stable/user_guide/indexing.html#returning-a-view-versus-a-copy\n",
      "  calcium_df[var.upper()][calcium_df['OBSNO'] == obs] = correct_value\n",
      "<ipython-input-4-2e42bf8fe08a>:8: SettingWithCopyWarning: \n",
      "A value is trying to be set on a copy of a slice from a DataFrame\n",
      "\n",
      "See the caveats in the documentation: https://pandas.pydata.org/pandas-docs/stable/user_guide/indexing.html#returning-a-view-versus-a-copy\n",
      "  calcium_df[var.upper()][calcium_df['OBSNO'] == obs] = correct_value\n",
      "<ipython-input-4-2e42bf8fe08a>:8: SettingWithCopyWarning: \n",
      "A value is trying to be set on a copy of a slice from a DataFrame\n",
      "\n",
      "See the caveats in the documentation: https://pandas.pydata.org/pandas-docs/stable/user_guide/indexing.html#returning-a-view-versus-a-copy\n",
      "  calcium_df[var.upper()][calcium_df['OBSNO'] == obs] = correct_value\n",
      "<ipython-input-4-2e42bf8fe08a>:8: SettingWithCopyWarning: \n",
      "A value is trying to be set on a copy of a slice from a DataFrame\n",
      "\n",
      "See the caveats in the documentation: https://pandas.pydata.org/pandas-docs/stable/user_guide/indexing.html#returning-a-view-versus-a-copy\n",
      "  calcium_df[var.upper()][calcium_df['OBSNO'] == obs] = correct_value\n",
      "<ipython-input-4-2e42bf8fe08a>:8: SettingWithCopyWarning: \n",
      "A value is trying to be set on a copy of a slice from a DataFrame\n",
      "\n",
      "See the caveats in the documentation: https://pandas.pydata.org/pandas-docs/stable/user_guide/indexing.html#returning-a-view-versus-a-copy\n",
      "  calcium_df[var.upper()][calcium_df['OBSNO'] == obs] = correct_value\n",
      "<ipython-input-4-2e42bf8fe08a>:8: SettingWithCopyWarning: \n",
      "A value is trying to be set on a copy of a slice from a DataFrame\n",
      "\n",
      "See the caveats in the documentation: https://pandas.pydata.org/pandas-docs/stable/user_guide/indexing.html#returning-a-view-versus-a-copy\n",
      "  calcium_df[var.upper()][calcium_df['OBSNO'] == obs] = correct_value\n",
      "<ipython-input-4-2e42bf8fe08a>:8: SettingWithCopyWarning: \n",
      "A value is trying to be set on a copy of a slice from a DataFrame\n",
      "\n",
      "See the caveats in the documentation: https://pandas.pydata.org/pandas-docs/stable/user_guide/indexing.html#returning-a-view-versus-a-copy\n",
      "  calcium_df[var.upper()][calcium_df['OBSNO'] == obs] = correct_value\n",
      "<ipython-input-4-2e42bf8fe08a>:8: SettingWithCopyWarning: \n",
      "A value is trying to be set on a copy of a slice from a DataFrame\n",
      "\n",
      "See the caveats in the documentation: https://pandas.pydata.org/pandas-docs/stable/user_guide/indexing.html#returning-a-view-versus-a-copy\n",
      "  calcium_df[var.upper()][calcium_df['OBSNO'] == obs] = correct_value\n",
      "<ipython-input-4-2e42bf8fe08a>:8: SettingWithCopyWarning: \n",
      "A value is trying to be set on a copy of a slice from a DataFrame\n",
      "\n",
      "See the caveats in the documentation: https://pandas.pydata.org/pandas-docs/stable/user_guide/indexing.html#returning-a-view-versus-a-copy\n",
      "  calcium_df[var.upper()][calcium_df['OBSNO'] == obs] = correct_value\n",
      "<ipython-input-4-2e42bf8fe08a>:8: SettingWithCopyWarning: \n",
      "A value is trying to be set on a copy of a slice from a DataFrame\n",
      "\n",
      "See the caveats in the documentation: https://pandas.pydata.org/pandas-docs/stable/user_guide/indexing.html#returning-a-view-versus-a-copy\n",
      "  calcium_df[var.upper()][calcium_df['OBSNO'] == obs] = correct_value\n",
      "<ipython-input-4-2e42bf8fe08a>:8: SettingWithCopyWarning: \n",
      "A value is trying to be set on a copy of a slice from a DataFrame\n",
      "\n",
      "See the caveats in the documentation: https://pandas.pydata.org/pandas-docs/stable/user_guide/indexing.html#returning-a-view-versus-a-copy\n",
      "  calcium_df[var.upper()][calcium_df['OBSNO'] == obs] = correct_value\n",
      "<ipython-input-4-2e42bf8fe08a>:8: SettingWithCopyWarning: \n",
      "A value is trying to be set on a copy of a slice from a DataFrame\n",
      "\n",
      "See the caveats in the documentation: https://pandas.pydata.org/pandas-docs/stable/user_guide/indexing.html#returning-a-view-versus-a-copy\n",
      "  calcium_df[var.upper()][calcium_df['OBSNO'] == obs] = correct_value\n",
      "<ipython-input-4-2e42bf8fe08a>:8: SettingWithCopyWarning: \n",
      "A value is trying to be set on a copy of a slice from a DataFrame\n",
      "\n",
      "See the caveats in the documentation: https://pandas.pydata.org/pandas-docs/stable/user_guide/indexing.html#returning-a-view-versus-a-copy\n",
      "  calcium_df[var.upper()][calcium_df['OBSNO'] == obs] = correct_value\n",
      "<ipython-input-4-2e42bf8fe08a>:8: SettingWithCopyWarning: \n",
      "A value is trying to be set on a copy of a slice from a DataFrame\n",
      "\n",
      "See the caveats in the documentation: https://pandas.pydata.org/pandas-docs/stable/user_guide/indexing.html#returning-a-view-versus-a-copy\n",
      "  calcium_df[var.upper()][calcium_df['OBSNO'] == obs] = correct_value\n"
     ]
    },
    {
     "output_type": "execute_result",
     "data": {
      "text/plain": [
       "     OBSNO    AGE    SEX  ALKPHOS    LAB  CAMMOL  PHOSMMOL  AGEGROUP\n",
       "0    False  False  False    False  False   False     False     False\n",
       "1    False  False  False    False  False   False     False     False\n",
       "2    False  False  False    False  False   False     False     False\n",
       "3    False  False  False    False  False   False     False     False\n",
       "4    False  False  False    False  False   False     False     False\n",
       "..     ...    ...    ...      ...    ...     ...       ...       ...\n",
       "173  False  False  False    False  False   False     False     False\n",
       "174  False  False  False    False  False   False     False     False\n",
       "175  False  False  False    False  False   False     False     False\n",
       "176  False  False  False    False  False   False     False     False\n",
       "177  False  False  False    False  False   False     False     False\n",
       "\n",
       "[174 rows x 8 columns]"
      ],
      "text/html": "<div>\n<style scoped>\n    .dataframe tbody tr th:only-of-type {\n        vertical-align: middle;\n    }\n\n    .dataframe tbody tr th {\n        vertical-align: top;\n    }\n\n    .dataframe thead th {\n        text-align: right;\n    }\n</style>\n<table border=\"1\" class=\"dataframe\">\n  <thead>\n    <tr style=\"text-align: right;\">\n      <th></th>\n      <th>OBSNO</th>\n      <th>AGE</th>\n      <th>SEX</th>\n      <th>ALKPHOS</th>\n      <th>LAB</th>\n      <th>CAMMOL</th>\n      <th>PHOSMMOL</th>\n      <th>AGEGROUP</th>\n    </tr>\n  </thead>\n  <tbody>\n    <tr>\n      <th>0</th>\n      <td>False</td>\n      <td>False</td>\n      <td>False</td>\n      <td>False</td>\n      <td>False</td>\n      <td>False</td>\n      <td>False</td>\n      <td>False</td>\n    </tr>\n    <tr>\n      <th>1</th>\n      <td>False</td>\n      <td>False</td>\n      <td>False</td>\n      <td>False</td>\n      <td>False</td>\n      <td>False</td>\n      <td>False</td>\n      <td>False</td>\n    </tr>\n    <tr>\n      <th>2</th>\n      <td>False</td>\n      <td>False</td>\n      <td>False</td>\n      <td>False</td>\n      <td>False</td>\n      <td>False</td>\n      <td>False</td>\n      <td>False</td>\n    </tr>\n    <tr>\n      <th>3</th>\n      <td>False</td>\n      <td>False</td>\n      <td>False</td>\n      <td>False</td>\n      <td>False</td>\n      <td>False</td>\n      <td>False</td>\n      <td>False</td>\n    </tr>\n    <tr>\n      <th>4</th>\n      <td>False</td>\n      <td>False</td>\n      <td>False</td>\n      <td>False</td>\n      <td>False</td>\n      <td>False</td>\n      <td>False</td>\n      <td>False</td>\n    </tr>\n    <tr>\n      <th>...</th>\n      <td>...</td>\n      <td>...</td>\n      <td>...</td>\n      <td>...</td>\n      <td>...</td>\n      <td>...</td>\n      <td>...</td>\n      <td>...</td>\n    </tr>\n    <tr>\n      <th>173</th>\n      <td>False</td>\n      <td>False</td>\n      <td>False</td>\n      <td>False</td>\n      <td>False</td>\n      <td>False</td>\n      <td>False</td>\n      <td>False</td>\n    </tr>\n    <tr>\n      <th>174</th>\n      <td>False</td>\n      <td>False</td>\n      <td>False</td>\n      <td>False</td>\n      <td>False</td>\n      <td>False</td>\n      <td>False</td>\n      <td>False</td>\n    </tr>\n    <tr>\n      <th>175</th>\n      <td>False</td>\n      <td>False</td>\n      <td>False</td>\n      <td>False</td>\n      <td>False</td>\n      <td>False</td>\n      <td>False</td>\n      <td>False</td>\n    </tr>\n    <tr>\n      <th>176</th>\n      <td>False</td>\n      <td>False</td>\n      <td>False</td>\n      <td>False</td>\n      <td>False</td>\n      <td>False</td>\n      <td>False</td>\n      <td>False</td>\n    </tr>\n    <tr>\n      <th>177</th>\n      <td>False</td>\n      <td>False</td>\n      <td>False</td>\n      <td>False</td>\n      <td>False</td>\n      <td>False</td>\n      <td>False</td>\n      <td>False</td>\n    </tr>\n  </tbody>\n</table>\n<p>174 rows × 8 columns</p>\n</div>"
     },
     "metadata": {},
     "execution_count": 4
    }
   ],
   "source": [
    "# Replacing it with correct values\n",
    "\n",
    "for i in range(len(reference_df)):\n",
    "    obs = reference_df.iloc[i][0]\n",
    "    var = reference_df.iloc[i][1]\n",
    "    correct_value = reference_df.iloc[i][3]\n",
    "    calcium_df[var.upper()][calcium_df['OBSNO'] == obs] = correct_value\n",
    "\n",
    "# Removing NULL / NA / Missing values\n",
    "\n",
    "calcium_df = calcium_df.replace(\"Missing\", np.NaN)\n",
    "print(calcium_df.shape)\n",
    "calcium_df = calcium_df.dropna()\n",
    "\n"
   ]
  },
  {
   "cell_type": "code",
   "execution_count": 5,
   "metadata": {},
   "outputs": [
    {
     "output_type": "stream",
     "name": "stdout",
     "text": [
      "<class 'pandas.core.frame.DataFrame'>\nInt64Index: 174 entries, 0 to 177\nData columns (total 8 columns):\n #   Column    Non-Null Count  Dtype  \n---  ------    --------------  -----  \n 0   OBSNO     174 non-null    int64  \n 1   AGE       174 non-null    int64  \n 2   SEX       174 non-null    object \n 3   ALKPHOS   174 non-null    float64\n 4   LAB       174 non-null    int64  \n 5   CAMMOL    174 non-null    float64\n 6   PHOSMMOL  174 non-null    float64\n 7   AGEGROUP  174 non-null    float64\ndtypes: float64(4), int64(3), object(1)\nmemory usage: 12.2+ KB\n"
     ]
    }
   ],
   "source": [
    "# Changing the dtype of the columns to \n",
    "calcium_df[['AGE', 'LAB']] = calcium_df[['AGE', 'LAB']].astype('int64')\n",
    "calcium_df[['ALKPHOS', 'CAMMOL', 'PHOSMMOL', 'AGEGROUP']] = calcium_df[['ALKPHOS', 'CAMMOL', 'PHOSMMOL', 'AGEGROUP']].astype('float64')\n",
    "\n",
    "calcium_df.info()"
   ]
  },
  {
   "cell_type": "code",
   "execution_count": 6,
   "metadata": {},
   "outputs": [],
   "source": [
    "calcium_df.to_csv(\"check.csv\")"
   ]
  },
  {
   "cell_type": "code",
   "execution_count": 7,
   "metadata": {},
   "outputs": [
    {
     "output_type": "execute_result",
     "data": {
      "text/plain": [
       "     OBSNO  AGE SEX  ALKPHOS  LAB  CAMMOL  PHOSMMOL  AGEGROUP\n",
       "0        1   78   2     83.0    4    2.53      1.07       3.0\n",
       "1        2   72   2    117.0    4    2.50      1.16       2.0\n",
       "2        3   72   2    132.0    4    2.43      1.13       2.0\n",
       "3        4   73   2    102.0    4    2.48      0.81       2.0\n",
       "4        5   73   2    114.0    4    2.33      1.13       2.0\n",
       "..     ...  ...  ..      ...  ...     ...       ...       ...\n",
       "173    174   72   2    138.0    3    2.45      1.07       2.0\n",
       "174    175   71   2    115.0    3    2.18      1.10       2.0\n",
       "175    176   67   2     84.0    6    2.30      1.26       1.0\n",
       "176    177   77   2     83.0    4    2.65      0.97       3.0\n",
       "177    178   70   2    124.0    4    2.50      0.97       2.0\n",
       "\n",
       "[174 rows x 8 columns]"
      ],
      "text/html": "<div>\n<style scoped>\n    .dataframe tbody tr th:only-of-type {\n        vertical-align: middle;\n    }\n\n    .dataframe tbody tr th {\n        vertical-align: top;\n    }\n\n    .dataframe thead th {\n        text-align: right;\n    }\n</style>\n<table border=\"1\" class=\"dataframe\">\n  <thead>\n    <tr style=\"text-align: right;\">\n      <th></th>\n      <th>OBSNO</th>\n      <th>AGE</th>\n      <th>SEX</th>\n      <th>ALKPHOS</th>\n      <th>LAB</th>\n      <th>CAMMOL</th>\n      <th>PHOSMMOL</th>\n      <th>AGEGROUP</th>\n    </tr>\n  </thead>\n  <tbody>\n    <tr>\n      <th>0</th>\n      <td>1</td>\n      <td>78</td>\n      <td>2</td>\n      <td>83.0</td>\n      <td>4</td>\n      <td>2.53</td>\n      <td>1.07</td>\n      <td>3.0</td>\n    </tr>\n    <tr>\n      <th>1</th>\n      <td>2</td>\n      <td>72</td>\n      <td>2</td>\n      <td>117.0</td>\n      <td>4</td>\n      <td>2.50</td>\n      <td>1.16</td>\n      <td>2.0</td>\n    </tr>\n    <tr>\n      <th>2</th>\n      <td>3</td>\n      <td>72</td>\n      <td>2</td>\n      <td>132.0</td>\n      <td>4</td>\n      <td>2.43</td>\n      <td>1.13</td>\n      <td>2.0</td>\n    </tr>\n    <tr>\n      <th>3</th>\n      <td>4</td>\n      <td>73</td>\n      <td>2</td>\n      <td>102.0</td>\n      <td>4</td>\n      <td>2.48</td>\n      <td>0.81</td>\n      <td>2.0</td>\n    </tr>\n    <tr>\n      <th>4</th>\n      <td>5</td>\n      <td>73</td>\n      <td>2</td>\n      <td>114.0</td>\n      <td>4</td>\n      <td>2.33</td>\n      <td>1.13</td>\n      <td>2.0</td>\n    </tr>\n    <tr>\n      <th>...</th>\n      <td>...</td>\n      <td>...</td>\n      <td>...</td>\n      <td>...</td>\n      <td>...</td>\n      <td>...</td>\n      <td>...</td>\n      <td>...</td>\n    </tr>\n    <tr>\n      <th>173</th>\n      <td>174</td>\n      <td>72</td>\n      <td>2</td>\n      <td>138.0</td>\n      <td>3</td>\n      <td>2.45</td>\n      <td>1.07</td>\n      <td>2.0</td>\n    </tr>\n    <tr>\n      <th>174</th>\n      <td>175</td>\n      <td>71</td>\n      <td>2</td>\n      <td>115.0</td>\n      <td>3</td>\n      <td>2.18</td>\n      <td>1.10</td>\n      <td>2.0</td>\n    </tr>\n    <tr>\n      <th>175</th>\n      <td>176</td>\n      <td>67</td>\n      <td>2</td>\n      <td>84.0</td>\n      <td>6</td>\n      <td>2.30</td>\n      <td>1.26</td>\n      <td>1.0</td>\n    </tr>\n    <tr>\n      <th>176</th>\n      <td>177</td>\n      <td>77</td>\n      <td>2</td>\n      <td>83.0</td>\n      <td>4</td>\n      <td>2.65</td>\n      <td>0.97</td>\n      <td>3.0</td>\n    </tr>\n    <tr>\n      <th>177</th>\n      <td>178</td>\n      <td>70</td>\n      <td>2</td>\n      <td>124.0</td>\n      <td>4</td>\n      <td>2.50</td>\n      <td>0.97</td>\n      <td>2.0</td>\n    </tr>\n  </tbody>\n</table>\n<p>174 rows × 8 columns</p>\n</div>"
     },
     "metadata": {},
     "execution_count": 7
    }
   ],
   "source": [
    "calcium_df[['SEX', 'LAB', 'AGEGROUP']].describe()\n",
    "calcium_df"
   ]
  },
  {
   "cell_type": "code",
   "execution_count": 11,
   "metadata": {},
   "outputs": [
    {
     "output_type": "stream",
     "name": "stdout",
     "text": [
      "Description of columns \n\n"
     ]
    },
    {
     "output_type": "display_data",
     "data": {
      "text/plain": "    ALKPHOS                                                         CAMMOL  \\\n      count       mean        std   min    25%   50%     75%    max  count   \nSEX                                                                          \n1      90.0  85.844444  23.112286  42.0  71.00  83.0   97.00  168.0   90.0   \n2      81.0  99.259259  35.954756  43.0  72.00  92.0  117.00  219.0   81.0   \n1       1.0  83.000000        NaN  83.0  83.00  83.0   83.00   83.0    1.0   \n2       2.0  68.500000   4.949747  65.0  66.75  68.5   70.25   72.0    2.0   \n\n               ...               PHOSMMOL                                    \\\n         mean  ...     75%   max    count      mean       std   min     25%   \nSEX            ...                                                            \n1    2.320000  ...  2.4000  2.58     90.0  1.057111  0.182284  0.52  0.9100   \n2    2.400123  ...  2.5000  2.75     81.0  1.139012  0.158166  0.81  1.0300   \n1    2.150000  ...  2.1500  2.15      1.0  1.260000       NaN  1.26  1.2600   \n2    2.315000  ...  2.3725  2.43      2.0  1.305000  0.162635  1.19  1.2475   \n\n                          \n       50%     75%   max  \nSEX                       \n1    1.070  1.1900  1.42  \n2    1.130  1.2300  1.61  \n1    1.260  1.2600  1.26  \n2    1.305  1.3625  1.42  \n\n[4 rows x 24 columns]",
      "text/html": "<div>\n<style scoped>\n    .dataframe tbody tr th:only-of-type {\n        vertical-align: middle;\n    }\n\n    .dataframe tbody tr th {\n        vertical-align: top;\n    }\n\n    .dataframe thead tr th {\n        text-align: left;\n    }\n\n    .dataframe thead tr:last-of-type th {\n        text-align: right;\n    }\n</style>\n<table border=\"1\" class=\"dataframe\">\n  <thead>\n    <tr>\n      <th></th>\n      <th colspan=\"8\" halign=\"left\">ALKPHOS</th>\n      <th colspan=\"5\" halign=\"left\">CAMMOL</th>\n      <th colspan=\"8\" halign=\"left\">PHOSMMOL</th>\n    </tr>\n    <tr>\n      <th></th>\n      <th>count</th>\n      <th>mean</th>\n      <th>std</th>\n      <th>min</th>\n      <th>25%</th>\n      <th>50%</th>\n      <th>75%</th>\n      <th>max</th>\n      <th>count</th>\n      <th>mean</th>\n      <th>...</th>\n      <th>75%</th>\n      <th>max</th>\n      <th>count</th>\n      <th>mean</th>\n      <th>std</th>\n      <th>min</th>\n      <th>25%</th>\n      <th>50%</th>\n      <th>75%</th>\n      <th>max</th>\n    </tr>\n    <tr>\n      <th>SEX</th>\n      <th></th>\n      <th></th>\n      <th></th>\n      <th></th>\n      <th></th>\n      <th></th>\n      <th></th>\n      <th></th>\n      <th></th>\n      <th></th>\n      <th></th>\n      <th></th>\n      <th></th>\n      <th></th>\n      <th></th>\n      <th></th>\n      <th></th>\n      <th></th>\n      <th></th>\n      <th></th>\n      <th></th>\n    </tr>\n  </thead>\n  <tbody>\n    <tr>\n      <th>1</th>\n      <td>90.0</td>\n      <td>85.844444</td>\n      <td>23.112286</td>\n      <td>42.0</td>\n      <td>71.00</td>\n      <td>83.0</td>\n      <td>97.00</td>\n      <td>168.0</td>\n      <td>90.0</td>\n      <td>2.320000</td>\n      <td>...</td>\n      <td>2.4000</td>\n      <td>2.58</td>\n      <td>90.0</td>\n      <td>1.057111</td>\n      <td>0.182284</td>\n      <td>0.52</td>\n      <td>0.9100</td>\n      <td>1.070</td>\n      <td>1.1900</td>\n      <td>1.42</td>\n    </tr>\n    <tr>\n      <th>2</th>\n      <td>81.0</td>\n      <td>99.259259</td>\n      <td>35.954756</td>\n      <td>43.0</td>\n      <td>72.00</td>\n      <td>92.0</td>\n      <td>117.00</td>\n      <td>219.0</td>\n      <td>81.0</td>\n      <td>2.400123</td>\n      <td>...</td>\n      <td>2.5000</td>\n      <td>2.75</td>\n      <td>81.0</td>\n      <td>1.139012</td>\n      <td>0.158166</td>\n      <td>0.81</td>\n      <td>1.0300</td>\n      <td>1.130</td>\n      <td>1.2300</td>\n      <td>1.61</td>\n    </tr>\n    <tr>\n      <th>1</th>\n      <td>1.0</td>\n      <td>83.000000</td>\n      <td>NaN</td>\n      <td>83.0</td>\n      <td>83.00</td>\n      <td>83.0</td>\n      <td>83.00</td>\n      <td>83.0</td>\n      <td>1.0</td>\n      <td>2.150000</td>\n      <td>...</td>\n      <td>2.1500</td>\n      <td>2.15</td>\n      <td>1.0</td>\n      <td>1.260000</td>\n      <td>NaN</td>\n      <td>1.26</td>\n      <td>1.2600</td>\n      <td>1.260</td>\n      <td>1.2600</td>\n      <td>1.26</td>\n    </tr>\n    <tr>\n      <th>2</th>\n      <td>2.0</td>\n      <td>68.500000</td>\n      <td>4.949747</td>\n      <td>65.0</td>\n      <td>66.75</td>\n      <td>68.5</td>\n      <td>70.25</td>\n      <td>72.0</td>\n      <td>2.0</td>\n      <td>2.315000</td>\n      <td>...</td>\n      <td>2.3725</td>\n      <td>2.43</td>\n      <td>2.0</td>\n      <td>1.305000</td>\n      <td>0.162635</td>\n      <td>1.19</td>\n      <td>1.2475</td>\n      <td>1.305</td>\n      <td>1.3625</td>\n      <td>1.42</td>\n    </tr>\n  </tbody>\n</table>\n<p>4 rows × 24 columns</p>\n</div>"
     },
     "metadata": {}
    },
    {
     "output_type": "stream",
     "name": "stdout",
     "text": [
      "Median  of the colummns by SEX\n\n"
     ]
    },
    {
     "output_type": "display_data",
     "data": {
      "text/plain": "     ALKPHOS  CAMMOL  PHOSMMOL\nSEX                           \n1       83.0   2.330     1.070\n2       92.0   2.400     1.130\n1       83.0   2.150     1.260\n2       68.5   2.315     1.305",
      "text/html": "<div>\n<style scoped>\n    .dataframe tbody tr th:only-of-type {\n        vertical-align: middle;\n    }\n\n    .dataframe tbody tr th {\n        vertical-align: top;\n    }\n\n    .dataframe thead th {\n        text-align: right;\n    }\n</style>\n<table border=\"1\" class=\"dataframe\">\n  <thead>\n    <tr style=\"text-align: right;\">\n      <th></th>\n      <th>ALKPHOS</th>\n      <th>CAMMOL</th>\n      <th>PHOSMMOL</th>\n    </tr>\n    <tr>\n      <th>SEX</th>\n      <th></th>\n      <th></th>\n      <th></th>\n    </tr>\n  </thead>\n  <tbody>\n    <tr>\n      <th>1</th>\n      <td>83.0</td>\n      <td>2.330</td>\n      <td>1.070</td>\n    </tr>\n    <tr>\n      <th>2</th>\n      <td>92.0</td>\n      <td>2.400</td>\n      <td>1.130</td>\n    </tr>\n    <tr>\n      <th>1</th>\n      <td>83.0</td>\n      <td>2.150</td>\n      <td>1.260</td>\n    </tr>\n    <tr>\n      <th>2</th>\n      <td>68.5</td>\n      <td>2.315</td>\n      <td>1.305</td>\n    </tr>\n  </tbody>\n</table>\n</div>"
     },
     "metadata": {}
    }
   ],
   "source": [
    "# For the variables alkphos, cammol and phosmmol, report the mean, median, standard deviation, min and max broken down by sex\n",
    "\n",
    "print(\"Description of columns \\n\")\n",
    "# Max, Min, \n",
    "display(calcium_df[['ALKPHOS', 'CAMMOL', 'PHOSMMOL', 'SEX']].groupby('SEX').describe())\n",
    "\n",
    "print(\"Median  of the colummns by SEX\\n\")\n",
    "\n",
    "display(calcium_df[['ALKPHOS', 'CAMMOL', 'PHOSMMOL', 'SEX']].groupby('SEX').median())\n",
    "\n"
   ]
  },
  {
   "cell_type": "code",
   "execution_count": 12,
   "metadata": {},
   "outputs": [
    {
     "output_type": "stream",
     "name": "stdout",
     "text": [
      "Description of columns \n\n"
     ]
    },
    {
     "output_type": "display_data",
     "data": {
      "text/plain": "    ALKPHOS                                                           CAMMOL  \\\n      count        mean        std   min    25%    50%     75%    max  count   \nLAB                                                                            \n1      86.0   93.767442  30.739005  50.0  72.25   85.0  109.25  219.0   86.0   \n2      41.0   88.951220  24.401794  54.0  75.00   85.0   97.00  168.0   41.0   \n3      16.0   83.375000  30.938380  42.0  60.75   72.5  110.50  138.0   16.0   \n4      14.0  118.428571  36.575978  83.0  90.00  111.0  130.00  213.0   14.0   \n5      11.0   70.636364  18.784423  45.0  57.50   67.0   83.00  111.0   11.0   \n6       6.0   84.333333  26.257697  57.0  64.00   78.5  102.75  122.0    6.0   \n\n               ...               PHOSMMOL                                    \\\n         mean  ...     75%   max    count      mean       std   min     25%   \nLAB            ...                                                            \n1    2.316163  ...  2.4000  2.70     86.0  1.101395  0.173606  0.77  0.9700   \n2    2.425854  ...  2.4800  2.75     41.0  1.129268  0.157550  0.87  1.0000   \n3    2.351875  ...  2.4625  2.53     16.0  1.036250  0.158277  0.84  0.9300   \n4    2.445000  ...  2.5225  2.65     14.0  1.034286  0.194609  0.65  0.8725   \n5    2.301818  ...  2.3400  2.63     11.0  1.084545  0.261586  0.52  0.9850   \n6    2.360000  ...  2.4000  2.48      6.0  1.210000  0.089889  1.10  1.1675   \n\n                          \n       50%     75%   max  \nLAB                       \n1    1.130  1.2300  1.61  \n2    1.130  1.2300  1.42  \n3    1.020  1.1150  1.42  \n4    1.085  1.1525  1.32  \n5    1.130  1.1950  1.49  \n6    1.190  1.2425  1.36  \n\n[6 rows x 24 columns]",
      "text/html": "<div>\n<style scoped>\n    .dataframe tbody tr th:only-of-type {\n        vertical-align: middle;\n    }\n\n    .dataframe tbody tr th {\n        vertical-align: top;\n    }\n\n    .dataframe thead tr th {\n        text-align: left;\n    }\n\n    .dataframe thead tr:last-of-type th {\n        text-align: right;\n    }\n</style>\n<table border=\"1\" class=\"dataframe\">\n  <thead>\n    <tr>\n      <th></th>\n      <th colspan=\"8\" halign=\"left\">ALKPHOS</th>\n      <th colspan=\"5\" halign=\"left\">CAMMOL</th>\n      <th colspan=\"8\" halign=\"left\">PHOSMMOL</th>\n    </tr>\n    <tr>\n      <th></th>\n      <th>count</th>\n      <th>mean</th>\n      <th>std</th>\n      <th>min</th>\n      <th>25%</th>\n      <th>50%</th>\n      <th>75%</th>\n      <th>max</th>\n      <th>count</th>\n      <th>mean</th>\n      <th>...</th>\n      <th>75%</th>\n      <th>max</th>\n      <th>count</th>\n      <th>mean</th>\n      <th>std</th>\n      <th>min</th>\n      <th>25%</th>\n      <th>50%</th>\n      <th>75%</th>\n      <th>max</th>\n    </tr>\n    <tr>\n      <th>LAB</th>\n      <th></th>\n      <th></th>\n      <th></th>\n      <th></th>\n      <th></th>\n      <th></th>\n      <th></th>\n      <th></th>\n      <th></th>\n      <th></th>\n      <th></th>\n      <th></th>\n      <th></th>\n      <th></th>\n      <th></th>\n      <th></th>\n      <th></th>\n      <th></th>\n      <th></th>\n      <th></th>\n      <th></th>\n    </tr>\n  </thead>\n  <tbody>\n    <tr>\n      <th>1</th>\n      <td>86.0</td>\n      <td>93.767442</td>\n      <td>30.739005</td>\n      <td>50.0</td>\n      <td>72.25</td>\n      <td>85.0</td>\n      <td>109.25</td>\n      <td>219.0</td>\n      <td>86.0</td>\n      <td>2.316163</td>\n      <td>...</td>\n      <td>2.4000</td>\n      <td>2.70</td>\n      <td>86.0</td>\n      <td>1.101395</td>\n      <td>0.173606</td>\n      <td>0.77</td>\n      <td>0.9700</td>\n      <td>1.130</td>\n      <td>1.2300</td>\n      <td>1.61</td>\n    </tr>\n    <tr>\n      <th>2</th>\n      <td>41.0</td>\n      <td>88.951220</td>\n      <td>24.401794</td>\n      <td>54.0</td>\n      <td>75.00</td>\n      <td>85.0</td>\n      <td>97.00</td>\n      <td>168.0</td>\n      <td>41.0</td>\n      <td>2.425854</td>\n      <td>...</td>\n      <td>2.4800</td>\n      <td>2.75</td>\n      <td>41.0</td>\n      <td>1.129268</td>\n      <td>0.157550</td>\n      <td>0.87</td>\n      <td>1.0000</td>\n      <td>1.130</td>\n      <td>1.2300</td>\n      <td>1.42</td>\n    </tr>\n    <tr>\n      <th>3</th>\n      <td>16.0</td>\n      <td>83.375000</td>\n      <td>30.938380</td>\n      <td>42.0</td>\n      <td>60.75</td>\n      <td>72.5</td>\n      <td>110.50</td>\n      <td>138.0</td>\n      <td>16.0</td>\n      <td>2.351875</td>\n      <td>...</td>\n      <td>2.4625</td>\n      <td>2.53</td>\n      <td>16.0</td>\n      <td>1.036250</td>\n      <td>0.158277</td>\n      <td>0.84</td>\n      <td>0.9300</td>\n      <td>1.020</td>\n      <td>1.1150</td>\n      <td>1.42</td>\n    </tr>\n    <tr>\n      <th>4</th>\n      <td>14.0</td>\n      <td>118.428571</td>\n      <td>36.575978</td>\n      <td>83.0</td>\n      <td>90.00</td>\n      <td>111.0</td>\n      <td>130.00</td>\n      <td>213.0</td>\n      <td>14.0</td>\n      <td>2.445000</td>\n      <td>...</td>\n      <td>2.5225</td>\n      <td>2.65</td>\n      <td>14.0</td>\n      <td>1.034286</td>\n      <td>0.194609</td>\n      <td>0.65</td>\n      <td>0.8725</td>\n      <td>1.085</td>\n      <td>1.1525</td>\n      <td>1.32</td>\n    </tr>\n    <tr>\n      <th>5</th>\n      <td>11.0</td>\n      <td>70.636364</td>\n      <td>18.784423</td>\n      <td>45.0</td>\n      <td>57.50</td>\n      <td>67.0</td>\n      <td>83.00</td>\n      <td>111.0</td>\n      <td>11.0</td>\n      <td>2.301818</td>\n      <td>...</td>\n      <td>2.3400</td>\n      <td>2.63</td>\n      <td>11.0</td>\n      <td>1.084545</td>\n      <td>0.261586</td>\n      <td>0.52</td>\n      <td>0.9850</td>\n      <td>1.130</td>\n      <td>1.1950</td>\n      <td>1.49</td>\n    </tr>\n    <tr>\n      <th>6</th>\n      <td>6.0</td>\n      <td>84.333333</td>\n      <td>26.257697</td>\n      <td>57.0</td>\n      <td>64.00</td>\n      <td>78.5</td>\n      <td>102.75</td>\n      <td>122.0</td>\n      <td>6.0</td>\n      <td>2.360000</td>\n      <td>...</td>\n      <td>2.4000</td>\n      <td>2.48</td>\n      <td>6.0</td>\n      <td>1.210000</td>\n      <td>0.089889</td>\n      <td>1.10</td>\n      <td>1.1675</td>\n      <td>1.190</td>\n      <td>1.2425</td>\n      <td>1.36</td>\n    </tr>\n  </tbody>\n</table>\n<p>6 rows × 24 columns</p>\n</div>"
     },
     "metadata": {}
    },
    {
     "output_type": "stream",
     "name": "stdout",
     "text": [
      "Median  of the colummns by LAB\n\n"
     ]
    },
    {
     "output_type": "display_data",
     "data": {
      "text/plain": "     ALKPHOS  CAMMOL  PHOSMMOL\nLAB                           \n1       85.0   2.300     1.130\n2       85.0   2.400     1.130\n3       72.5   2.375     1.020\n4      111.0   2.465     1.085\n5       67.0   2.250     1.130\n6       78.5   2.375     1.190",
      "text/html": "<div>\n<style scoped>\n    .dataframe tbody tr th:only-of-type {\n        vertical-align: middle;\n    }\n\n    .dataframe tbody tr th {\n        vertical-align: top;\n    }\n\n    .dataframe thead th {\n        text-align: right;\n    }\n</style>\n<table border=\"1\" class=\"dataframe\">\n  <thead>\n    <tr style=\"text-align: right;\">\n      <th></th>\n      <th>ALKPHOS</th>\n      <th>CAMMOL</th>\n      <th>PHOSMMOL</th>\n    </tr>\n    <tr>\n      <th>LAB</th>\n      <th></th>\n      <th></th>\n      <th></th>\n    </tr>\n  </thead>\n  <tbody>\n    <tr>\n      <th>1</th>\n      <td>85.0</td>\n      <td>2.300</td>\n      <td>1.130</td>\n    </tr>\n    <tr>\n      <th>2</th>\n      <td>85.0</td>\n      <td>2.400</td>\n      <td>1.130</td>\n    </tr>\n    <tr>\n      <th>3</th>\n      <td>72.5</td>\n      <td>2.375</td>\n      <td>1.020</td>\n    </tr>\n    <tr>\n      <th>4</th>\n      <td>111.0</td>\n      <td>2.465</td>\n      <td>1.085</td>\n    </tr>\n    <tr>\n      <th>5</th>\n      <td>67.0</td>\n      <td>2.250</td>\n      <td>1.130</td>\n    </tr>\n    <tr>\n      <th>6</th>\n      <td>78.5</td>\n      <td>2.375</td>\n      <td>1.190</td>\n    </tr>\n  </tbody>\n</table>\n</div>"
     },
     "metadata": {}
    }
   ],
   "source": [
    "# For the variables alkphos, cammol and phosmmol, report the mean, median, standard deviation, min and max broken down by lab\n",
    "\n",
    "print(\"Description of columns \\n\")\n",
    "# Max, Min, \n",
    "display(calcium_df[['ALKPHOS', 'CAMMOL', 'PHOSMMOL', 'LAB']].groupby('LAB').describe())\n",
    "\n",
    "print(\"Median  of the colummns by LAB\\n\")\n",
    "\n",
    "display(calcium_df[['ALKPHOS', 'CAMMOL', 'PHOSMMOL', 'LAB']].groupby('LAB').median())\n",
    "\n"
   ]
  }
 ]
}