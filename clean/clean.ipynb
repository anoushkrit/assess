{
 "metadata": {
  "language_info": {
   "codemirror_mode": {
    "name": "ipython",
    "version": 3
   },
   "file_extension": ".py",
   "mimetype": "text/x-python",
   "name": "python",
   "nbconvert_exporter": "python",
   "pygments_lexer": "ipython3",
   "version": "3.8.5"
  },
  "orig_nbformat": 2,
  "kernelspec": {
   "name": "python3",
   "display_name": "Python 3.8.5 64-bit ('base': conda)",
   "metadata": {
    "interpreter": {
     "hash": "b3ba2566441a7c06988d0923437866b63cedc61552a5af99d1f4fb67d367b25f"
    }
   }
  }
 },
 "nbformat": 4,
 "nbformat_minor": 2,
 "cells": [
  {
   "cell_type": "code",
   "execution_count": 10,
   "metadata": {},
   "outputs": [],
   "source": [
    "import pandas as pd \n",
    "import numpy as np"
   ]
  },
  {
   "cell_type": "code",
   "execution_count": 2,
   "metadata": {},
   "outputs": [
    {
     "output_type": "execute_result",
     "data": {
      "text/plain": [
       "Index(['OBSNO', 'variable', 'problem', 'correct'], dtype='object')"
      ]
     },
     "metadata": {},
     "execution_count": 2
    }
   ],
   "source": [
    "calcium_df = pd.read_csv(\"calcium.csv\")\n",
    "reference_df = pd.read_csv(\"calciumcorrect.csv\")\n",
    "reference_df.columns\n"
   ]
  },
  {
   "cell_type": "code",
   "execution_count": 3,
   "metadata": {},
   "outputs": [
    {
     "output_type": "execute_result",
     "data": {
      "text/plain": [
       "    OBSNO  variable  problem  correct\n",
       "0      11       age      771       71\n",
       "1      53       age      699       69\n",
       "2     123       age      730       73\n",
       "3      28       sex       22        2\n",
       "4     120       sex       11        1\n",
       "5     173       sex       22        2\n",
       "6      21    cammol      3.2      2.2\n",
       "7      25    cammol     25.3     2.53\n",
       "8      26    cammol       20        2\n",
       "9      27    cammol     22.3     2.23\n",
       "10     28    cammol     24.3     2.43\n",
       "11     29    cammol       25      2.5\n",
       "12     30    cammol     23.3     2.33\n",
       "13     31    cammol       24      2.4\n",
       "14     32    cammol       25      2.5\n",
       "15     33    cammol       25      2.5\n",
       "16     34    cammol     23.5     2.35\n",
       "17     35    cammol     22.5     2.25\n",
       "18     36    cammol     24.5     2.45\n",
       "19     37    cammol    23.33     2.33\n",
       "20    149    cammol     1.05     2.05\n",
       "21      6       lab       43        4\n",
       "22     78       lab       21        2\n",
       "23     32  phosmmol     3.21     1.23\n",
       "24    108  phosmmol     0.09      0.9\n",
       "25    132  phosmmol     8.84     0.84\n",
       "26    176  phosmmol     2.16     1.26\n",
       "27     22   alkphos  Missing       64\n",
       "28     60   alkphos      9.7       97\n",
       "29     79  agegroup  Missing        4\n",
       "30     42  phosmmol  Missing  Missing\n",
       "31    105       age  Missing  Missing\n",
       "32    170       lab  Missing  Missing\n",
       "33     85    cammol  Missing  Missing"
      ],
      "text/html": "<div>\n<style scoped>\n    .dataframe tbody tr th:only-of-type {\n        vertical-align: middle;\n    }\n\n    .dataframe tbody tr th {\n        vertical-align: top;\n    }\n\n    .dataframe thead th {\n        text-align: right;\n    }\n</style>\n<table border=\"1\" class=\"dataframe\">\n  <thead>\n    <tr style=\"text-align: right;\">\n      <th></th>\n      <th>OBSNO</th>\n      <th>variable</th>\n      <th>problem</th>\n      <th>correct</th>\n    </tr>\n  </thead>\n  <tbody>\n    <tr>\n      <th>0</th>\n      <td>11</td>\n      <td>age</td>\n      <td>771</td>\n      <td>71</td>\n    </tr>\n    <tr>\n      <th>1</th>\n      <td>53</td>\n      <td>age</td>\n      <td>699</td>\n      <td>69</td>\n    </tr>\n    <tr>\n      <th>2</th>\n      <td>123</td>\n      <td>age</td>\n      <td>730</td>\n      <td>73</td>\n    </tr>\n    <tr>\n      <th>3</th>\n      <td>28</td>\n      <td>sex</td>\n      <td>22</td>\n      <td>2</td>\n    </tr>\n    <tr>\n      <th>4</th>\n      <td>120</td>\n      <td>sex</td>\n      <td>11</td>\n      <td>1</td>\n    </tr>\n    <tr>\n      <th>5</th>\n      <td>173</td>\n      <td>sex</td>\n      <td>22</td>\n      <td>2</td>\n    </tr>\n    <tr>\n      <th>6</th>\n      <td>21</td>\n      <td>cammol</td>\n      <td>3.2</td>\n      <td>2.2</td>\n    </tr>\n    <tr>\n      <th>7</th>\n      <td>25</td>\n      <td>cammol</td>\n      <td>25.3</td>\n      <td>2.53</td>\n    </tr>\n    <tr>\n      <th>8</th>\n      <td>26</td>\n      <td>cammol</td>\n      <td>20</td>\n      <td>2</td>\n    </tr>\n    <tr>\n      <th>9</th>\n      <td>27</td>\n      <td>cammol</td>\n      <td>22.3</td>\n      <td>2.23</td>\n    </tr>\n    <tr>\n      <th>10</th>\n      <td>28</td>\n      <td>cammol</td>\n      <td>24.3</td>\n      <td>2.43</td>\n    </tr>\n    <tr>\n      <th>11</th>\n      <td>29</td>\n      <td>cammol</td>\n      <td>25</td>\n      <td>2.5</td>\n    </tr>\n    <tr>\n      <th>12</th>\n      <td>30</td>\n      <td>cammol</td>\n      <td>23.3</td>\n      <td>2.33</td>\n    </tr>\n    <tr>\n      <th>13</th>\n      <td>31</td>\n      <td>cammol</td>\n      <td>24</td>\n      <td>2.4</td>\n    </tr>\n    <tr>\n      <th>14</th>\n      <td>32</td>\n      <td>cammol</td>\n      <td>25</td>\n      <td>2.5</td>\n    </tr>\n    <tr>\n      <th>15</th>\n      <td>33</td>\n      <td>cammol</td>\n      <td>25</td>\n      <td>2.5</td>\n    </tr>\n    <tr>\n      <th>16</th>\n      <td>34</td>\n      <td>cammol</td>\n      <td>23.5</td>\n      <td>2.35</td>\n    </tr>\n    <tr>\n      <th>17</th>\n      <td>35</td>\n      <td>cammol</td>\n      <td>22.5</td>\n      <td>2.25</td>\n    </tr>\n    <tr>\n      <th>18</th>\n      <td>36</td>\n      <td>cammol</td>\n      <td>24.5</td>\n      <td>2.45</td>\n    </tr>\n    <tr>\n      <th>19</th>\n      <td>37</td>\n      <td>cammol</td>\n      <td>23.33</td>\n      <td>2.33</td>\n    </tr>\n    <tr>\n      <th>20</th>\n      <td>149</td>\n      <td>cammol</td>\n      <td>1.05</td>\n      <td>2.05</td>\n    </tr>\n    <tr>\n      <th>21</th>\n      <td>6</td>\n      <td>lab</td>\n      <td>43</td>\n      <td>4</td>\n    </tr>\n    <tr>\n      <th>22</th>\n      <td>78</td>\n      <td>lab</td>\n      <td>21</td>\n      <td>2</td>\n    </tr>\n    <tr>\n      <th>23</th>\n      <td>32</td>\n      <td>phosmmol</td>\n      <td>3.21</td>\n      <td>1.23</td>\n    </tr>\n    <tr>\n      <th>24</th>\n      <td>108</td>\n      <td>phosmmol</td>\n      <td>0.09</td>\n      <td>0.9</td>\n    </tr>\n    <tr>\n      <th>25</th>\n      <td>132</td>\n      <td>phosmmol</td>\n      <td>8.84</td>\n      <td>0.84</td>\n    </tr>\n    <tr>\n      <th>26</th>\n      <td>176</td>\n      <td>phosmmol</td>\n      <td>2.16</td>\n      <td>1.26</td>\n    </tr>\n    <tr>\n      <th>27</th>\n      <td>22</td>\n      <td>alkphos</td>\n      <td>Missing</td>\n      <td>64</td>\n    </tr>\n    <tr>\n      <th>28</th>\n      <td>60</td>\n      <td>alkphos</td>\n      <td>9.7</td>\n      <td>97</td>\n    </tr>\n    <tr>\n      <th>29</th>\n      <td>79</td>\n      <td>agegroup</td>\n      <td>Missing</td>\n      <td>4</td>\n    </tr>\n    <tr>\n      <th>30</th>\n      <td>42</td>\n      <td>phosmmol</td>\n      <td>Missing</td>\n      <td>Missing</td>\n    </tr>\n    <tr>\n      <th>31</th>\n      <td>105</td>\n      <td>age</td>\n      <td>Missing</td>\n      <td>Missing</td>\n    </tr>\n    <tr>\n      <th>32</th>\n      <td>170</td>\n      <td>lab</td>\n      <td>Missing</td>\n      <td>Missing</td>\n    </tr>\n    <tr>\n      <th>33</th>\n      <td>85</td>\n      <td>cammol</td>\n      <td>Missing</td>\n      <td>Missing</td>\n    </tr>\n  </tbody>\n</table>\n</div>"
     },
     "metadata": {},
     "execution_count": 3
    }
   ],
   "source": [
    "# Removing key errors\n",
    "\n",
    "reference_df = reference_df.replace('phosmol', 'phosmmol')\n",
    "reference_df = reference_df.replace('Phosmol', 'phosmmol')\n",
    "\n",
    "reference_df"
   ]
  },
  {
   "cell_type": "code",
   "execution_count": 12,
   "metadata": {},
   "outputs": [
    {
     "output_type": "stream",
     "name": "stdout",
     "text": [
      "(178, 8)\n(174, 8)\n"
     ]
    }
   ],
   "source": [
    "# Replacing it with correct values\n",
    "\n",
    "for i in range(len(reference_df)):\n",
    "    obs = reference_df.iloc[i][0]\n",
    "    var = reference_df.iloc[i][1]\n",
    "    correct_value = reference_df.iloc[i][3]\n",
    "    calcium_df[var.upper()][calcium_df['OBSNO'] == obs] = correct_value\n",
    "\n",
    "calcium_df = calcium_df.replace(\"Missing\", np.NaN)\n",
    "print(calcium_df.shape)\n",
    "calcium_df = calcium_df.dropna()\n",
    "print(calcium_df.shape)\n"
   ]
  },
  {
   "cell_type": "code",
   "execution_count": 13,
   "metadata": {},
   "outputs": [],
   "source": [
    "calcium_df.to_csv(\"check.csv\")"
   ]
  },
  {
   "cell_type": "code",
   "execution_count": 23,
   "metadata": {},
   "outputs": [
    {
     "output_type": "execute_result",
     "data": {
      "text/plain": [
       "        SEX  LAB AGEGROUP\n",
       "count   174  174      174\n",
       "unique    4    6        6\n",
       "top       1    1     2.00\n",
       "freq     90   86       69"
      ],
      "text/html": "<div>\n<style scoped>\n    .dataframe tbody tr th:only-of-type {\n        vertical-align: middle;\n    }\n\n    .dataframe tbody tr th {\n        vertical-align: top;\n    }\n\n    .dataframe thead th {\n        text-align: right;\n    }\n</style>\n<table border=\"1\" class=\"dataframe\">\n  <thead>\n    <tr style=\"text-align: right;\">\n      <th></th>\n      <th>SEX</th>\n      <th>LAB</th>\n      <th>AGEGROUP</th>\n    </tr>\n  </thead>\n  <tbody>\n    <tr>\n      <th>count</th>\n      <td>174</td>\n      <td>174</td>\n      <td>174</td>\n    </tr>\n    <tr>\n      <th>unique</th>\n      <td>4</td>\n      <td>6</td>\n      <td>6</td>\n    </tr>\n    <tr>\n      <th>top</th>\n      <td>1</td>\n      <td>1</td>\n      <td>2.00</td>\n    </tr>\n    <tr>\n      <th>freq</th>\n      <td>90</td>\n      <td>86</td>\n      <td>69</td>\n    </tr>\n  </tbody>\n</table>\n</div>"
     },
     "metadata": {},
     "execution_count": 23
    }
   ],
   "source": [
    "calcium_df[['SEX', 'LAB', 'AGEGROUP']].describe()"
   ]
  },
  {
   "cell_type": "code",
   "execution_count": 26,
   "metadata": {},
   "outputs": [
    {
     "output_type": "display_data",
     "data": {
      "text/plain": "<pandas.core.groupby.generic.DataFrameGroupBy object at 0x0000024925A70F40>"
     },
     "metadata": {}
    }
   ],
   "source": [
    "calcium_df.groupby('SEX')"
   ]
  },
  {
   "cell_type": "code",
   "execution_count": null,
   "metadata": {},
   "outputs": [],
   "source": []
  }
 ]
}